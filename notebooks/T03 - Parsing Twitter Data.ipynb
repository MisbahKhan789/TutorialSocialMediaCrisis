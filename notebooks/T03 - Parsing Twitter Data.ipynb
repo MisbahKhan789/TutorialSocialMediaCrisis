{
 "cells": [
  {
   "cell_type": "code",
   "execution_count": null,
   "metadata": {
    "collapsed": false
   },
   "outputs": [],
   "source": [
    "%matplotlib inline\n",
    "\n",
    "import time\n",
    "import calendar\n",
    "import codecs\n",
    "import datetime\n",
    "import sys\n",
    "import gzip\n",
    "import string\n",
    "import glob\n",
    "import os\n",
    "\n",
    "# For parsing JSON\n",
    "import json"
   ]
  },
  {
   "cell_type": "markdown",
   "metadata": {},
   "source": [
    "# Topic 3. JSON - JavaScript Object Notation\n",
    "\n",
    "Much of the data with which we will work comes in the JavaScript Object Notation (JSON) format.\n",
    "JSON is a lightweight text format that allows one to describe objects by __keys__ and __values__ without needing to specify a schema beforehand (as compared to XML).\n",
    "\n",
    "Many \"RESTful\" APIs available on the web today return data in JSON format, and the data we have stored from Twitter follows this rule as well.\n",
    "\n",
    "Python's JSON support is relatively robust and is included in the language under the json package.\n",
    "This package allows us to read and write JSON to/from a string or file and convert many of Python's types into a text format."
   ]
  },
  {
   "cell_type": "markdown",
   "metadata": {},
   "source": [
    "## JSON and Keys/Values\n",
    "\n",
    "The main idea here is that JSON allows one to specify a key, or name, for some data and then that data's value as a string, number, or object.\n",
    "\n",
    "An example line of JSON might look like:\n",
    "\n",
    "> {\"key\": \"value\"}"
   ]
  },
  {
   "cell_type": "code",
   "execution_count": null,
   "metadata": {
    "collapsed": false
   },
   "outputs": [],
   "source": [
    "jsonString = '{\"key\": \"value\"}'\n",
    "\n",
    "# Parse the JSON string\n",
    "dictFromJson = json.loads(jsonString)\n",
    "\n",
    "# Python now has a dictionary representing this data\n",
    "print (\"Resulting dictionary object:\\n\", dictFromJson)\n",
    "\n",
    "# Will print the value\n",
    "print (\"Data stored in \\\"key\\\":\\n\", dictFromJson[\"key\"])\n",
    "\n",
    "# This will cause an error!\n",
    "print (\"Data stored in \\\"value\\\":\\n\", dictFromJson[\"value\"])"
   ]
  },
  {
   "cell_type": "markdown",
   "metadata": {},
   "source": [
    "## Multile Keys and Values\n",
    "\n",
    "A JSON string/file can have many keys and values, but a key should always have a value.\n",
    "We can have values without keys if we're doing arrays, but this can be awkward.\n",
    "\n",
    "An example of JSON string with multiple keys is below:\n",
    "\n",
    "``\n",
    "{\n",
    "\"name\": \"Cody\",\n",
    "\"occupation\": \"Student\",\n",
    "\"goal\": \"PhD\"\n",
    "}\n",
    "``\n",
    "\n",
    "Note the __comma__ after the first two values. \n",
    "These commas are needed for valid JSON and to separate keys from other values."
   ]
  },
  {
   "cell_type": "code",
   "execution_count": null,
   "metadata": {
    "collapsed": false
   },
   "outputs": [],
   "source": [
    "jsonString = '{ \"name\": \"Cody\", \"occupation\": \"PostDoc\", \"goal\": \"Tenure\" }'\n",
    "\n",
    "# Parse the JSON string\n",
    "dictFromJson = json.loads(jsonString)\n",
    "\n",
    "# Python now has a dictionary representing this data\n",
    "print (\"Resulting dictionary object:\\n\", dictFromJson)"
   ]
  },
  {
   "cell_type": "markdown",
   "metadata": {},
   "source": [
    "## JSON and Arrays\n",
    "\n",
    "The above JSON string describes an __object__ whose name is \"Cody\".\n",
    "How would we describe a list of similar students?\n",
    "Arrays are useful here and are denoted with \"[]\" rather than the \"{}\" object notation.\n",
    "For example:\n",
    "\n",
    "``\n",
    "{\n",
    "    \"students\": [\n",
    "        {\n",
    "            \"name\": \"Cody\",\n",
    "            \"occupation\": \"Student\",\n",
    "            \"goal\": \"PhD\"\n",
    "        },\n",
    "        {\n",
    "            \"name\": \"Scott\",\n",
    "            \"occupation\": \"Student\",\n",
    "            \"goal\": \"Masters\"\n",
    "        }\n",
    "    ]\n",
    "}\n",
    "``\n",
    "\n",
    "Again, note the comma between the \"}\" and \"{\" separating the two student objects and how they are both surrounded by \"[]\"."
   ]
  },
  {
   "cell_type": "code",
   "execution_count": null,
   "metadata": {
    "collapsed": false
   },
   "outputs": [],
   "source": [
    "jsonString = '{\"students\": [{\"name\": \"Cody\", \"occupation\": \"PostDoc\", \"goal\": \"Tenure\"}, {\"name\": \"Scott\", \"occupation\": \"Student\", \"goal\": \"Masters\"}]}'\n",
    "\n",
    "# Parse the JSON string\n",
    "dictFromJson = json.loads(jsonString)\n",
    "\n",
    "# Python now has a dictionary representing this data\n",
    "print (\"Resulting array:\\n\", dictFromJson)\n",
    "\n",
    "print (\"Each student:\")\n",
    "for student in dictFromJson[\"students\"]:\n",
    "    print (student)"
   ]
  },
  {
   "cell_type": "markdown",
   "metadata": {},
   "source": [
    "## More JSON + Arrays\n",
    "\n",
    "A couple of things to note:\n",
    "1. JSON does not *need* a name for the array. It could be declared just as an array.\n",
    "1. The student objects need not be identical.\n",
    "\n",
    "As an example:\n",
    "\n",
    "``\n",
    "[\n",
    "    {\n",
    "        \"name\": \"Cody\",\n",
    "        \"occupation\": \"Student\",\n",
    "        \"goal\": \"PhD\"\n",
    "    },\n",
    "    {\n",
    "        \"name\": \"Scott\",\n",
    "        \"occupation\": \"Student\",\n",
    "        \"goal\": \"Masters\",\n",
    "        \"completed\": true\n",
    "    }\n",
    "]\n",
    "``"
   ]
  },
  {
   "cell_type": "code",
   "execution_count": null,
   "metadata": {
    "collapsed": false
   },
   "outputs": [],
   "source": [
    "jsonString = '[{\"name\": \"Cody\",\"occupation\": \"PostDoc\",\"goal\": \"Tenure\"},{\"name\": \"Scott\",\"occupation\": \"Student\",\"goal\": \"Masters\",\"completed\": true}]'\n",
    "\n",
    "# Parse the JSON string\n",
    "arrFromJson = json.loads(jsonString)\n",
    "\n",
    "# Python now has an array representing this data\n",
    "print (\"Resulting array:\\n\", arrFromJson)\n",
    "\n",
    "print (\"Each student:\")\n",
    "for student in arrFromJson:\n",
    "    print (student)"
   ]
  },
  {
   "cell_type": "markdown",
   "metadata": {},
   "source": [
    "## Nested JSON Objects\n",
    "\n",
    "We've shown you can have an array as a value, and you can do the same with objects.\n",
    "In fact, one of the powers of JSON is its essentially infinite depth/expressability. \n",
    "You can very easily nest objects within objects, and JSON in the wild relies on this heavily.\n",
    "\n",
    "An example:\n",
    "\n",
    "``\n",
    "{\n",
    "    \"disasters\" : [\n",
    "        {\n",
    "            \"event\": \"Nepal Earthquake\",\n",
    "            \"date\": \"25 April 2015\",\n",
    "            \"casualties\": 8964,\n",
    "            \"magnitude\": 7.8,\n",
    "            \"affectedAreas\": [\n",
    "                {\n",
    "                    \"country\": \"Nepal\",\n",
    "                    \"capital\": \"Kathmandu\",\n",
    "                    \"population\": 26494504\n",
    "                },\n",
    "                {\n",
    "                    \"country\": \"India\",\n",
    "                    \"capital\": \"New Dehli\",\n",
    "                    \"population\": 1276267000\n",
    "                },\n",
    "                {\n",
    "                    \"country\": \"China\",\n",
    "                    \"capital\": \"Beijing\",\n",
    "                    \"population\": 1376049000\n",
    "                },\n",
    "                {\n",
    "                    \"country\": \"Bangladesh\",\n",
    "                    \"capital\": \"Dhaka\",\n",
    "                    \"population\": 168957745\n",
    "                }\n",
    "            ]\n",
    "        }\n",
    "    ]\n",
    "}\n",
    "``"
   ]
  },
  {
   "cell_type": "code",
   "execution_count": null,
   "metadata": {
    "collapsed": false
   },
   "outputs": [],
   "source": [
    "jsonString = '{\"disasters\" : [{\"event\": \"Nepal Earthquake\",\"date\": \"25 April 2015\",\"casualties\": 8964,\"magnitude\": 7.8,\"affectedAreas\": [{\"country\": \"Nepal\",\"capital\": \"Kathmandu\",\"population\": 26494504},{\"country\": \"India\",\"capital\": \"New Dehli\",\"population\": 1276267000},{\"country\": \"China\",\"capital\": \"Beijing\",\"population\": 1376049000},{\"country\": \"Bangladesh\",\"capital\": \"Dhaka\",\"population\": 168957745}]}]}'\n",
    "\n",
    "disasters = json.loads(jsonString)\n",
    "\n",
    "for disaster in disasters[\"disasters\"]:\n",
    "    print (disaster[\"event\"])\n",
    "    print (disaster[\"date\"])\n",
    "    \n",
    "    for country in disaster[\"affectedAreas\"]:\n",
    "        print (country[\"country\"])"
   ]
  },
  {
   "cell_type": "markdown",
   "metadata": {},
   "source": [
    "## From Python Dictionaries to JSON\n",
    "\n",
    "We can also go from a Python object to JSON with relative ease."
   ]
  },
  {
   "cell_type": "code",
   "execution_count": null,
   "metadata": {
    "collapsed": false
   },
   "outputs": [],
   "source": [
    "exObj = {\n",
    "    \"event\": \"Nepal Earthquake\",\n",
    "    \"date\": \"25 April 2015\",\n",
    "    \"casualties\": 8964,\n",
    "    \"magnitude\": 7.8\n",
    "}\n",
    "\n",
    "print (\"Python Object:\", exObj, \"\\n\")\n",
    "\n",
    "# now we can convert to JSON\n",
    "print (\"Object JSON:\")\n",
    "print (json.dumps(exObj), \"\\n\")\n",
    "\n",
    "# We can also pretty-print the JSON\n",
    "print (\"Readable JSON:\")\n",
    "print (json.dumps(exObj, indent=4)) # Indent adds space"
   ]
  },
  {
   "cell_type": "markdown",
   "metadata": {},
   "source": [
    "## Reading Twitter JSON\n",
    "\n",
    "We should now have all the tools necessary to understand how Python can read Twitter JSON data.\n",
    "To show this, we'll read in a single tweet from the Ferguson, MO protests  review its format, and parse it with Python's JSON loader."
   ]
  },
  {
   "cell_type": "code",
   "execution_count": null,
   "metadata": {
    "collapsed": false
   },
   "outputs": [],
   "source": [
    "tweetFilename = \"first_BlackLivesMatter.json\"\n",
    "\n",
    "# Use Python's os.path.join to account for Windows, OSX/Linux differences\n",
    "tweetFilePath = os.path.join(\"..\", \"00_data\", \"ferguson\", tweetFilename)\n",
    "\n",
    "print (\"Opening\", tweetFilePath)\n",
    "\n",
    "# We use codecs to ensure we open the file in Unicode format,\n",
    "# which supports larger character encodings\n",
    "tweetFile = codecs.open(tweetFilePath, \"r\", \"utf8\")\n",
    "\n",
    "# Read in the whole file, which contains ONE tweet and close\n",
    "tweetFileContent = tweetFile.read()\n",
    "tweetFile.close()\n",
    "\n",
    "# Print the raw json\n",
    "print (\"Raw Tweet JSON:\\n\")\n",
    "print (tweetFileContent)\n",
    "\n",
    "# Convert the JSON to a Python object\n",
    "tweet = json.loads(tweetFileContent)\n",
    "print (\"Tweet Object:\\n\")\n",
    "print (tweet)\n",
    "\n",
    "# We could have done this in one step with json.load() \n",
    "# called on the open file, but our data files have\n",
    "# a single tweet JSON per line, so this is more consistent"
   ]
  },
  {
   "cell_type": "markdown",
   "metadata": {},
   "source": [
    "## Twitter JSON Fields\n",
    "\n",
    "This tweet is pretty big, but we can still see some of the fields it contains. \n",
    "Note it also has many nested fields.\n",
    "We'll go through some of the more important fields below."
   ]
  },
  {
   "cell_type": "code",
   "execution_count": null,
   "metadata": {
    "collapsed": false
   },
   "outputs": [],
   "source": [
    "# What fields can we see?\n",
    "print (\"Keys:\")\n",
    "for k in sorted(tweet.keys()):\n",
    "    print (\"\\t\", k)\n",
    "\n",
    "print (\"Tweet Text:\", tweet[\"text\"])\n",
    "print (\"User Name:\", tweet[\"user\"][\"screen_name\"])\n",
    "print (\"Author:\", tweet[\"user\"][\"name\"])\n",
    "print(\"Source:\", tweet[\"source\"])\n",
    "print(\"Retweets:\", tweet[\"retweet_count\"])\n",
    "print(\"Favorited:\", tweet[\"favorite_count\"])\n",
    "print(\"Tweet Location:\", tweet[\"place\"])\n",
    "print(\"Tweet GPS Coordinates:\", tweet[\"coordinates\"])\n",
    "print(\"Twitter's Guessed Language:\", tweet[\"lang\"])\n",
    "\n",
    "# Tweets have a list of hashtags, mentions, URLs, and other\n",
    "# attachments in \"entities\" field\n",
    "print (\"\\n\", \"Entities:\")\n",
    "for eType in tweet[\"entities\"]:\n",
    "    print (\"\\t\", eType)\n",
    "    \n",
    "    for e in tweet[\"entities\"][eType]:\n",
    "        print (\"\\t\\t\", e)"
   ]
  },
  {
   "cell_type": "code",
   "execution_count": null,
   "metadata": {
    "collapsed": true
   },
   "outputs": [],
   "source": []
  }
 ],
 "metadata": {
  "kernelspec": {
   "display_name": "Python 3",
   "language": "python",
   "name": "python3"
  },
  "language_info": {
   "codemirror_mode": {
    "name": "ipython",
    "version": 3
   },
   "file_extension": ".py",
   "mimetype": "text/x-python",
   "name": "python",
   "nbconvert_exporter": "python",
   "pygments_lexer": "ipython3",
   "version": "3.6.0"
  }
 },
 "nbformat": 4,
 "nbformat_minor": 0
}
