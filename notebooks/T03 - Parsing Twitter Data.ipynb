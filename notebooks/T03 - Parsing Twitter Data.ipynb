{
 "cells": [
  {
   "cell_type": "code",
   "execution_count": 1,
   "metadata": {
    "collapsed": false
   },
   "outputs": [
    {
     "name": "stderr",
     "output_type": "stream",
     "text": [
      "/Users/cbuntain/tmp/conda_base/mac/lib/python2.7/site-packages/matplotlib/font_manager.py:273: UserWarning: Matplotlib is building the font cache using fc-list. This may take a moment.\n",
      "  warnings.warn('Matplotlib is building the font cache using fc-list. This may take a moment.')\n"
     ]
    }
   ],
   "source": [
    "%matplotlib inline\n",
    "\n",
    "import time\n",
    "import calendar\n",
    "import codecs\n",
    "import datetime\n",
    "import sys\n",
    "import gzip\n",
    "import string\n",
    "import glob\n",
    "import os\n",
    "\n",
    "# For parsing JSON\n",
    "import json"
   ]
  },
  {
   "cell_type": "markdown",
   "metadata": {},
   "source": [
    "# Topic 3. JSON - JavaScript Object Notation\n",
    "\n",
    "Much of the data with which we will work comes in the JavaScript Object Notation (JSON) format.\n",
    "JSON is a lightweight text format that allows one to describe objects by __keys__ and __values__ without needing to specify a schema beforehand (as compared to XML).\n",
    "\n",
    "Many \"RESTful\" APIs available on the web today return data in JSON format, and the data we have stored from Twitter follows this rule as well.\n",
    "\n",
    "Python's JSON support is relatively robust and is included in the language under the json package.\n",
    "This package allows us to read and write JSON to/from a string or file and convert many of Python's types into a text format."
   ]
  },
  {
   "cell_type": "markdown",
   "metadata": {},
   "source": [
    "## JSON and Keys/Values\n",
    "\n",
    "The main idea here is that JSON allows one to specify a key, or name, for some data and then that data's value as a string, number, or object.\n",
    "\n",
    "An example line of JSON might look like:\n",
    "\n",
    "> {\"key\": \"value\"}"
   ]
  },
  {
   "cell_type": "code",
   "execution_count": 7,
   "metadata": {
    "collapsed": false
   },
   "outputs": [
    {
     "name": "stdout",
     "output_type": "stream",
     "text": [
      "Resulting dictionary object:\n",
      "{u'key': u'value'}\n",
      "Data stored in \"key\":\n",
      "value\n",
      "Data stored in \"value\":\n"
     ]
    },
    {
     "ename": "KeyError",
     "evalue": "'value'",
     "output_type": "error",
     "traceback": [
      "\u001b[0;31m---------------------------------------------------------------------------\u001b[0m",
      "\u001b[0;31mKeyError\u001b[0m                                  Traceback (most recent call last)",
      "\u001b[0;32m<ipython-input-7-5cbf0ad4dd2f>\u001b[0m in \u001b[0;36m<module>\u001b[0;34m()\u001b[0m\n\u001b[1;32m     11\u001b[0m \u001b[0;34m\u001b[0m\u001b[0m\n\u001b[1;32m     12\u001b[0m \u001b[0;31m# This will cause an error!\u001b[0m\u001b[0;34m\u001b[0m\u001b[0;34m\u001b[0m\u001b[0m\n\u001b[0;32m---> 13\u001b[0;31m \u001b[0;32mprint\u001b[0m \u001b[0;34m\"Data stored in \\\"value\\\":\\n\"\u001b[0m\u001b[0;34m,\u001b[0m \u001b[0mdictFromJson\u001b[0m\u001b[0;34m[\u001b[0m\u001b[0;34m\"value\"\u001b[0m\u001b[0;34m]\u001b[0m\u001b[0;34m\u001b[0m\u001b[0m\n\u001b[0m",
      "\u001b[0;31mKeyError\u001b[0m: 'value'"
     ]
    }
   ],
   "source": [
    "jsonString = '{\"key\": \"value\"}'\n",
    "\n",
    "# Parse the JSON string\n",
    "dictFromJson = json.loads(jsonString)\n",
    "\n",
    "# Python now has a dictionary representing this data\n",
    "print \"Resulting dictionary object:\\n\", dictFromJson\n",
    "\n",
    "# Will print the value\n",
    "print \"Data stored in \\\"key\\\":\\n\", dictFromJson[\"key\"]\n",
    "\n",
    "# This will cause an error!\n",
    "print \"Data stored in \\\"value\\\":\\n\", dictFromJson[\"value\"]"
   ]
  },
  {
   "cell_type": "markdown",
   "metadata": {},
   "source": [
    "## Multile Keys and Values\n",
    "\n",
    "A JSON string/file can have many keys and values, but a key should always have a value.\n",
    "We can have values without keys if we're doing arrays, but this can be awkward.\n",
    "\n",
    "An example of JSON string with multiple keys is below:\n",
    "\n",
    "``\n",
    "{\n",
    "\"name\": \"Cody\",\n",
    "\"occupation\": \"Student\",\n",
    "\"goal\": \"PhD\"\n",
    "}\n",
    "``\n",
    "\n",
    "Note the __comma__ after the first two values. \n",
    "These commas are needed for valid JSON and to separate keys from other values."
   ]
  },
  {
   "cell_type": "code",
   "execution_count": 8,
   "metadata": {
    "collapsed": false
   },
   "outputs": [
    {
     "name": "stdout",
     "output_type": "stream",
     "text": [
      "Resulting dictionary object:\n",
      "{u'goal': u'PhD', u'name': u'Cody', u'occupation': u'Student'}\n"
     ]
    }
   ],
   "source": [
    "jsonString = '{ \"name\": \"Cody\", \"occupation\": \"Student\", \"goal\": \"PhD\" }'\n",
    "\n",
    "# Parse the JSON string\n",
    "dictFromJson = json.loads(jsonString)\n",
    "\n",
    "# Python now has a dictionary representing this data\n",
    "print \"Resulting dictionary object:\\n\", dictFromJson"
   ]
  },
  {
   "cell_type": "markdown",
   "metadata": {},
   "source": [
    "## JSON and Arrays\n",
    "\n",
    "The above JSON string describes an __object__ whose name is \"Cody\".\n",
    "How would we describe a list of similar students?\n",
    "Arrays are useful here and are denoted with \"[]\" rather than the \"{}\" object notation.\n",
    "For example:\n",
    "\n",
    "``\n",
    "{\n",
    "    \"students\": [\n",
    "        {\n",
    "            \"name\": \"Cody\",\n",
    "            \"occupation\": \"Student\",\n",
    "            \"goal\": \"PhD\"\n",
    "        },\n",
    "        {\n",
    "            \"name\": \"Scott\",\n",
    "            \"occupation\": \"Student\",\n",
    "            \"goal\": \"Masters\"\n",
    "        }\n",
    "    ]\n",
    "}\n",
    "``\n",
    "\n",
    "Again, note the comma between the \"}\" and \"{\" separating the two student objects and how they are both surrounded by \"[]\"."
   ]
  },
  {
   "cell_type": "code",
   "execution_count": 11,
   "metadata": {
    "collapsed": false
   },
   "outputs": [
    {
     "name": "stdout",
     "output_type": "stream",
     "text": [
      "Resulting array:\n",
      "{u'students': [{u'goal': u'PhD', u'name': u'Cody', u'occupation': u'Student'}, {u'goal': u'Masters', u'name': u'Scott', u'occupation': u'Student'}]}\n",
      "Each student:\n",
      "{u'goal': u'PhD', u'name': u'Cody', u'occupation': u'Student'}\n",
      "{u'goal': u'Masters', u'name': u'Scott', u'occupation': u'Student'}\n"
     ]
    }
   ],
   "source": [
    "jsonString = '{\"students\": [{\"name\": \"Cody\", \"occupation\": \"Student\", \"goal\": \"PhD\"}, {\"name\": \"Scott\", \"occupation\": \"Student\", \"goal\": \"Masters\"}]}'\n",
    "\n",
    "# Parse the JSON string\n",
    "dictFromJson = json.loads(jsonString)\n",
    "\n",
    "# Python now has a dictionary representing this data\n",
    "print \"Resulting array:\\n\", dictFromJson\n",
    "\n",
    "print \"Each student:\"\n",
    "for student in dictFromJson[\"students\"]:\n",
    "    print student"
   ]
  },
  {
   "cell_type": "markdown",
   "metadata": {},
   "source": [
    "## More JSON + Arrays\n",
    "\n",
    "A couple of things to note:\n",
    "1. JSON does not *need* a name for the array. It could be declared just as an array.\n",
    "1. The student objects need not be identical.\n",
    "\n",
    "As an example:\n",
    "\n",
    "``\n",
    "[\n",
    "    {\n",
    "        \"name\": \"Cody\",\n",
    "        \"occupation\": \"Student\",\n",
    "        \"goal\": \"PhD\"\n",
    "    },\n",
    "    {\n",
    "        \"name\": \"Scott\",\n",
    "        \"occupation\": \"Student\",\n",
    "        \"goal\": \"Masters\",\n",
    "        \"completed\": true\n",
    "    }\n",
    "]\n",
    "``"
   ]
  },
  {
   "cell_type": "code",
   "execution_count": 12,
   "metadata": {
    "collapsed": false
   },
   "outputs": [
    {
     "name": "stdout",
     "output_type": "stream",
     "text": [
      "Resulting array:\n",
      "[{u'goal': u'PhD', u'name': u'Cody', u'occupation': u'Student'}, {u'goal': u'Masters', u'completed': True, u'name': u'Scott', u'occupation': u'Student'}]\n",
      "Each student:\n",
      "{u'goal': u'PhD', u'name': u'Cody', u'occupation': u'Student'}\n",
      "{u'goal': u'Masters', u'completed': True, u'name': u'Scott', u'occupation': u'Student'}\n"
     ]
    }
   ],
   "source": [
    "jsonString = '[{\"name\": \"Cody\",\"occupation\": \"Student\",\"goal\": \"PhD\"},{\"name\": \"Scott\",\"occupation\": \"Student\",\"goal\": \"Masters\",\"completed\": true}]'\n",
    "\n",
    "# Parse the JSON string\n",
    "arrFromJson = json.loads(jsonString)\n",
    "\n",
    "# Python now has an array representing this data\n",
    "print \"Resulting array:\\n\", arrFromJson\n",
    "\n",
    "print \"Each student:\"\n",
    "for student in arrFromJson:\n",
    "    print student"
   ]
  },
  {
   "cell_type": "markdown",
   "metadata": {},
   "source": [
    "## Nested JSON Objects\n",
    "\n",
    "We've shown you can have an array as a value, and you can do the same with objects.\n",
    "In fact, one of the powers of JSON is its essentially infinite depth/expressability. \n",
    "You can very easily nest objects within objects, and JSON in the wild relies on this heavily.\n",
    "\n",
    "An example:\n",
    "\n",
    "``\n",
    "{\n",
    "    \"disasters\" : [\n",
    "        {\n",
    "            \"event\": \"Nepal Earthquake\",\n",
    "            \"date\": \"25 April 2015\",\n",
    "            \"casualties\": 8964,\n",
    "            \"magnitude\": 7.8,\n",
    "            \"affectedAreas\": [\n",
    "                {\n",
    "                    \"country\": \"Nepal\",\n",
    "                    \"capital\": \"Kathmandu\",\n",
    "                    \"population\": 26494504\n",
    "                },\n",
    "                {\n",
    "                    \"country\": \"India\",\n",
    "                    \"capital\": \"New Dehli\",\n",
    "                    \"population\": 1276267000\n",
    "                },\n",
    "                {\n",
    "                    \"country\": \"China\",\n",
    "                    \"capital\": \"Beijing\",\n",
    "                    \"population\": 1376049000\n",
    "                },\n",
    "                {\n",
    "                    \"country\": \"Bangladesh\",\n",
    "                    \"capital\": \"Dhaka\",\n",
    "                    \"population\": 168957745\n",
    "                }\n",
    "            ]\n",
    "        }\n",
    "    ]\n",
    "}\n",
    "``"
   ]
  },
  {
   "cell_type": "code",
   "execution_count": 18,
   "metadata": {
    "collapsed": false
   },
   "outputs": [
    {
     "name": "stdout",
     "output_type": "stream",
     "text": [
      "Nepal Earthquake\n",
      "25 April 2015\n",
      "Nepal\n",
      "India\n",
      "China\n",
      "Bangladesh\n"
     ]
    }
   ],
   "source": [
    "jsonString = '{\"disasters\" : [{\"event\": \"Nepal Earthquake\",\"date\": \"25 April 2015\",\"casualties\": 8964,\"magnitude\": 7.8,\"affectedAreas\": [{\"country\": \"Nepal\",\"capital\": \"Kathmandu\",\"population\": 26494504},{\"country\": \"India\",\"capital\": \"New Dehli\",\"population\": 1276267000},{\"country\": \"China\",\"capital\": \"Beijing\",\"population\": 1376049000},{\"country\": \"Bangladesh\",\"capital\": \"Dhaka\",\"population\": 168957745}]}]}'\n",
    "\n",
    "disasters = json.loads(jsonString)\n",
    "\n",
    "for disaster in disasters[\"disasters\"]:\n",
    "    print disaster[\"event\"]\n",
    "    print disaster[\"date\"]\n",
    "    \n",
    "    for country in disaster[\"affectedAreas\"]:\n",
    "        print country[\"country\"]"
   ]
  },
  {
   "cell_type": "markdown",
   "metadata": {},
   "source": [
    "## From Python Dictionaries to JSON\n",
    "\n",
    "We can also go from a Python object to JSON with relative ease."
   ]
  },
  {
   "cell_type": "code",
   "execution_count": 16,
   "metadata": {
    "collapsed": false
   },
   "outputs": [
    {
     "name": "stdout",
     "output_type": "stream",
     "text": [
      "Python Object: {'date': '25 April 2015', 'magnitude': 7.8, 'casualties': 8964, 'event': 'Nepal Earthquake'} \n",
      "\n",
      "Object JSON:\n",
      "{\"date\": \"25 April 2015\", \"magnitude\": 7.8, \"casualties\": 8964, \"event\": \"Nepal Earthquake\"} \n",
      "\n",
      "Readable JSON:\n",
      "{\n",
      "    \"date\": \"25 April 2015\", \n",
      "    \"magnitude\": 7.8, \n",
      "    \"casualties\": 8964, \n",
      "    \"event\": \"Nepal Earthquake\"\n",
      "}\n"
     ]
    }
   ],
   "source": [
    "exObj = {\n",
    "    \"event\": \"Nepal Earthquake\",\n",
    "    \"date\": \"25 April 2015\",\n",
    "    \"casualties\": 8964,\n",
    "    \"magnitude\": 7.8\n",
    "}\n",
    "\n",
    "print \"Python Object:\", exObj, \"\\n\"\n",
    "\n",
    "# now we can convert to JSON\n",
    "print \"Object JSON:\"\n",
    "print json.dumps(exObj), \"\\n\"\n",
    "\n",
    "# We can also pretty-print the JSON\n",
    "print \"Readable JSON:\"\n",
    "print json.dumps(exObj, indent=4) # Indent adds space"
   ]
  },
  {
   "cell_type": "markdown",
   "metadata": {},
   "source": [
    "## Reading Twitter JSON\n",
    "\n",
    "We should now have all the tools necessary to understand how Python can read Twitter JSON data.\n",
    "To show this, we'll read in a single tweet from the Ferguson, MO protests  review its format, and parse it with Python's JSON loader."
   ]
  },
  {
   "cell_type": "code",
   "execution_count": 26,
   "metadata": {
    "collapsed": false
   },
   "outputs": [
    {
     "name": "stdout",
     "output_type": "stream",
     "text": [
      " Opening ../00_data/ferguson/first_BlackLivesMatter.json\n",
      "Raw Tweet JSON:\n",
      "\n",
      "{\"contributors\": null, \"truncated\": false, \"text\": \"\\u201cWe all bleed red, but who's blood is on the streets?\\u201d #MikeBrown #Ferguson #BlackLivesMatter\", \"in_reply_to_status_id\": null, \"id\": 499593759148240896, \"favorite_count\": 2, \"source\": \"<a href=\\\"http://twitter.com/download/iphone\\\" rel=\\\"nofollow\\\">Twitter for iPhone</a>\", \"retweeted\": false, \"coordinates\": {\"type\": \"Point\", \"coordinates\": [-82.42889701, 28.06465482]}, \"entities\": {\"symbols\": [], \"user_mentions\": [], \"hashtags\": [{\"indices\": [55, 65], \"text\": \"MikeBrown\"}, {\"indices\": [66, 75], \"text\": \"Ferguson\"}, {\"indices\": [76, 93], \"text\": \"BlackLivesMatter\"}], \"urls\": []}, \"in_reply_to_screen_name\": null, \"in_reply_to_user_id\": null, \"retweet_count\": 1, \"id_str\": \"499593759148240896\", \"favorited\": false, \"user\": {\"follow_request_sent\": false, \"profile_use_background_image\": true, \"id\": 163099391, \"verified\": false, \"profile_text_color\": \"E8F00E\", \"profile_image_url_https\": \"https://pbs.twimg.com/profile_images/482566784164585472/wPthAtCf_normal.jpeg\", \"profile_sidebar_fill_color\": \"F50E35\", \"is_translator\": false, \"geo_enabled\": true, \"entities\": {\"description\": {\"urls\": []}}, \"followers_count\": 1020, \"protected\": false, \"location\": \"919 to the 336 and back :)\", \"default_profile_image\": false, \"id_str\": \"163099391\", \"lang\": \"en\", \"utc_offset\": -14400, \"statuses_count\": 33083, \"description\": \"#WSSU15| Always act as a Lady | Reputation is what PEOPLE think of us; character is what GOD knows of us. IG: slimfromthe9\", \"friends_count\": 740, \"profile_link_color\": \"088253\", \"profile_image_url\": \"http://pbs.twimg.com/profile_images/482566784164585472/wPthAtCf_normal.jpeg\", \"notifications\": false, \"profile_background_image_url_https\": \"https://pbs.twimg.com/profile_background_images/436586637665906688/EcpDX1mH.jpeg\", \"profile_background_color\": \"EDECE9\", \"profile_banner_url\": \"https://pbs.twimg.com/profile_banners/163099391/1371818659\", \"profile_background_image_url\": \"http://pbs.twimg.com/profile_background_images/436586637665906688/EcpDX1mH.jpeg\", \"name\": \"\\u2020 \\u266a \\u2654 Emerald\", \"is_translation_enabled\": false, \"profile_background_tile\": true, \"favourites_count\": 1485, \"screen_name\": \"_emmajeann\", \"url\": null, \"created_at\": \"Mon Jul 05 15:04:10 +0000 2010\", \"contributors_enabled\": false, \"time_zone\": \"Eastern Time (US & Canada)\", \"profile_sidebar_border_color\": \"FFFFFF\", \"default_profile\": false, \"following\": false, \"listed_count\": 4}, \"geo\": {\"type\": \"Point\", \"coordinates\": [28.06465482, -82.42889701]}, \"in_reply_to_user_id_str\": null, \"lang\": \"en\", \"created_at\": \"Wed Aug 13 16:30:08 +0000 2014\", \"in_reply_to_status_id_str\": null, \"place\": {\"country_code\": \"US\", \"url\": \"https://api.twitter.com/1.1/geo/id/553011a282a18fb5.json\", \"country\": \"United States\", \"place_type\": \"city\", \"bounding_box\": {\"type\": \"Polygon\", \"coordinates\": [[[-82.45491, 28.054805], [-82.4098119, 28.054805], [-82.4098119, 28.098918], [-82.45491, 28.098918]]]}, \"contained_within\": [], \"full_name\": \"University, FL\", \"attributes\": {}, \"id\": \"553011a282a18fb5\", \"name\": \"University\"}, \"metadata\": {\"iso_language_code\": \"en\", \"result_type\": \"recent\"}}\n",
      "\n",
      "Tweet Object:\n",
      "\n",
      "{u'contributors': None, u'truncated': False, u'text': u\"\\u201cWe all bleed red, but who's blood is on the streets?\\u201d #MikeBrown #Ferguson #BlackLivesMatter\", u'in_reply_to_status_id': None, u'id': 499593759148240896, u'favorite_count': 2, u'source': u'<a href=\"http://twitter.com/download/iphone\" rel=\"nofollow\">Twitter for iPhone</a>', u'retweeted': False, u'coordinates': {u'type': u'Point', u'coordinates': [-82.42889701, 28.06465482]}, u'entities': {u'symbols': [], u'user_mentions': [], u'hashtags': [{u'indices': [55, 65], u'text': u'MikeBrown'}, {u'indices': [66, 75], u'text': u'Ferguson'}, {u'indices': [76, 93], u'text': u'BlackLivesMatter'}], u'urls': []}, u'in_reply_to_screen_name': None, u'in_reply_to_user_id': None, u'retweet_count': 1, u'id_str': u'499593759148240896', u'favorited': False, u'user': {u'follow_request_sent': False, u'profile_use_background_image': True, u'contributors_enabled': False, u'id': 163099391, u'verified': False, u'profile_text_color': u'E8F00E', u'profile_image_url_https': u'https://pbs.twimg.com/profile_images/482566784164585472/wPthAtCf_normal.jpeg', u'profile_sidebar_fill_color': u'F50E35', u'entities': {u'description': {u'urls': []}}, u'followers_count': 1020, u'profile_sidebar_border_color': u'FFFFFF', u'location': u'919 to the 336 and back :)', u'default_profile_image': False, u'id_str': u'163099391', u'is_translation_enabled': False, u'utc_offset': -14400, u'statuses_count': 33083, u'description': u'#WSSU15| Always act as a Lady | Reputation is what PEOPLE think of us; character is what GOD knows of us. IG: slimfromthe9', u'friends_count': 740, u'profile_link_color': u'088253', u'profile_image_url': u'http://pbs.twimg.com/profile_images/482566784164585472/wPthAtCf_normal.jpeg', u'notifications': False, u'geo_enabled': True, u'profile_background_color': u'EDECE9', u'profile_banner_url': u'https://pbs.twimg.com/profile_banners/163099391/1371818659', u'profile_background_image_url': u'http://pbs.twimg.com/profile_background_images/436586637665906688/EcpDX1mH.jpeg', u'screen_name': u'_emmajeann', u'lang': u'en', u'following': False, u'profile_background_tile': True, u'favourites_count': 1485, u'name': u'\\u2020 \\u266a \\u2654 Emerald', u'url': None, u'created_at': u'Mon Jul 05 15:04:10 +0000 2010', u'profile_background_image_url_https': u'https://pbs.twimg.com/profile_background_images/436586637665906688/EcpDX1mH.jpeg', u'time_zone': u'Eastern Time (US & Canada)', u'protected': False, u'default_profile': False, u'is_translator': False, u'listed_count': 4}, u'geo': {u'type': u'Point', u'coordinates': [28.06465482, -82.42889701]}, u'in_reply_to_user_id_str': None, u'lang': u'en', u'created_at': u'Wed Aug 13 16:30:08 +0000 2014', u'in_reply_to_status_id_str': None, u'place': {u'full_name': u'University, FL', u'url': u'https://api.twitter.com/1.1/geo/id/553011a282a18fb5.json', u'country': u'United States', u'place_type': u'city', u'bounding_box': {u'type': u'Polygon', u'coordinates': [[[-82.45491, 28.054805], [-82.4098119, 28.054805], [-82.4098119, 28.098918], [-82.45491, 28.098918]]]}, u'contained_within': [], u'country_code': u'US', u'attributes': {}, u'id': u'553011a282a18fb5', u'name': u'University'}, u'metadata': {u'iso_language_code': u'en', u'result_type': u'recent'}}\n"
     ]
    }
   ],
   "source": [
    "tweetFilename = \"first_BlackLivesMatter.json\"\n",
    "\n",
    "# Use Python's os.path.join to account for Windows, OSX/Linux differences\n",
    "tweetFilePath = os.path.join(\"..\", \"00_data\", \"ferguson\", tweetFilename)\n",
    "\n",
    "print \"Opening\", tweetFilePath\n",
    "\n",
    "# We use codecs to ensure we open the file in Unicode format,\n",
    "# which supports larger character encodings\n",
    "tweetFile = codecs.open(tweetFilePath, \"r\", \"utf8\")\n",
    "\n",
    "# Read in the whole file, which contains ONE tweet and close\n",
    "tweetFileContent = tweetFile.read()\n",
    "tweetFile.close()\n",
    "\n",
    "# Print the raw json\n",
    "print \"Raw Tweet JSON:\\n\"\n",
    "print tweetFileContent\n",
    "\n",
    "# Convert the JSON to a Python object\n",
    "tweet = json.loads(tweetFileContent)\n",
    "print \"Tweet Object:\\n\"\n",
    "print tweet\n",
    "\n",
    "# We could have done this in one step with json.load() \n",
    "# called on the open file, but our data files have\n",
    "# a single tweet JSON per line, so this is more consistent"
   ]
  },
  {
   "cell_type": "markdown",
   "metadata": {},
   "source": [
    "## Twitter JSON Fields\n",
    "\n",
    "This tweet is pretty big, but we can still see some of the fields it contains. \n",
    "Note it also has many nested fields.\n",
    "We'll go through some of the more important fields below."
   ]
  },
  {
   "cell_type": "code",
   "execution_count": 44,
   "metadata": {
    "collapsed": false
   },
   "outputs": [
    {
     "name": "stdout",
     "output_type": "stream",
     "text": [
      "Keys:\n",
      "\tcontributors\n",
      "\tcoordinates\n",
      "\tcreated_at\n",
      "\tentities\n",
      "\tfavorite_count\n",
      "\tfavorited\n",
      "\tgeo\n",
      "\tid\n",
      "\tid_str\n",
      "\tin_reply_to_screen_name\n",
      "\tin_reply_to_status_id\n",
      "\tin_reply_to_status_id_str\n",
      "\tin_reply_to_user_id\n",
      "\tin_reply_to_user_id_str\n",
      "\tlang\n",
      "\tmetadata\n",
      "\tplace\n",
      "\tretweet_count\n",
      "\tretweeted\n",
      "\tsource\n",
      "\ttext\n",
      "\ttruncated\n",
      "\tuser\n",
      "Tweet Text: “We all bleed red, but who's blood is on the streets?” #MikeBrown #Ferguson #BlackLivesMatter\n",
      "User Name: _emmajeann\n",
      "Author: † ♪ ♔ Emerald\n",
      "Source: <a href=\"http://twitter.com/download/iphone\" rel=\"nofollow\">Twitter for iPhone</a>\n",
      "Retweets: 1\n",
      "Favorited: 2\n",
      "Tweet Location: {u'full_name': u'University, FL', u'url': u'https://api.twitter.com/1.1/geo/id/553011a282a18fb5.json', u'country': u'United States', u'place_type': u'city', u'bounding_box': {u'type': u'Polygon', u'coordinates': [[[-82.45491, 28.054805], [-82.4098119, 28.054805], [-82.4098119, 28.098918], [-82.45491, 28.098918]]]}, u'contained_within': [], u'country_code': u'US', u'attributes': {}, u'id': u'553011a282a18fb5', u'name': u'University'}\n",
      "Tweet GPS Coordinates: {u'type': u'Point', u'coordinates': [-82.42889701, 28.06465482]}\n",
      "Twitter's Guessed Language: en\n",
      "\n",
      "Entities:\n",
      "\tsymbols\n",
      "\tuser_mentions\n",
      "\thashtags\n",
      "\t\t{u'indices': [55, 65], u'text': u'MikeBrown'}\n",
      "\t\t{u'indices': [66, 75], u'text': u'Ferguson'}\n",
      "\t\t{u'indices': [76, 93], u'text': u'BlackLivesMatter'}\n",
      "\turls\n"
     ]
    }
   ],
   "source": [
    "# What fields can we see?\n",
    "print \"Keys:\"\n",
    "for k in sorted(tweet.keys()):\n",
    "    print \"\\t\", k\n",
    "\n",
    "print \"Tweet Text:\", tweet[\"text\"]\n",
    "print \"User Name:\", tweet[\"user\"][\"screen_name\"]\n",
    "print \"Author:\", tweet[\"user\"][\"name\"]\n",
    "print \"Source:\", tweet[\"source\"]\n",
    "print \"Retweets:\", tweet[\"retweet_count\"]\n",
    "print \"Favorited:\", tweet[\"favorite_count\"]\n",
    "print \"Tweet Location:\", tweet[\"place\"]\n",
    "print \"Tweet GPS Coordinates:\", tweet[\"coordinates\"]\n",
    "print \"Twitter's Guessed Language:\", tweet[\"lang\"]\n",
    "\n",
    "# Tweets have a list of hashtags, mentions, URLs, and other\n",
    "# attachments in \"entities\" field\n",
    "print \"\\n\", \"Entities:\"\n",
    "for eType in tweet[\"entities\"]:\n",
    "    print \"\\t\", eType\n",
    "    \n",
    "    for e in tweet[\"entities\"][eType]:\n",
    "        print \"\\t\\t\", e"
   ]
  },
  {
   "cell_type": "code",
   "execution_count": null,
   "metadata": {
    "collapsed": true
   },
   "outputs": [],
   "source": []
  }
 ],
 "metadata": {
  "kernelspec": {
   "display_name": "Python 2",
   "language": "python",
   "name": "python2"
  },
  "language_info": {
   "codemirror_mode": {
    "name": "ipython",
    "version": 2
   },
   "file_extension": ".py",
   "mimetype": "text/x-python",
   "name": "python",
   "nbconvert_exporter": "python",
   "pygments_lexer": "ipython2",
   "version": "2.7.11"
  }
 },
 "nbformat": 4,
 "nbformat_minor": 0
}
