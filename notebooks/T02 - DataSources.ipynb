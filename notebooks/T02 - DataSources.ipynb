{
 "cells": [
  {
   "cell_type": "code",
   "execution_count": 81,
   "metadata": {
    "collapsed": false
   },
   "outputs": [],
   "source": [
    "%matplotlib inline\n",
    "\n",
    "import json\n",
    "import sys\n",
    "import re\n",
    "import codecs\n",
    "import requests\n",
    "import urllib"
   ]
  },
  {
   "cell_type": "markdown",
   "metadata": {
    "collapsed": true
   },
   "source": [
    "# Topic 2: Collecting Social Media Data\n",
    "\n",
    "This notebook contains examples for using web-based APIs (Application Programmer Interfaces) to download data from social media platforms.\n",
    "Our examples will include:\n",
    "\n",
    "- Reddit\n",
    "- Facebook\n",
    "- Twitter\n",
    "\n",
    "For most services, we need to register with the platform in order to use their API.\n",
    "Instructions for the registration processes are outlined in each specific section below.\n",
    "\n",
    "We will use APIs because they *can* be much faster than manually copying and pasting data from the web site, APIs provide uniform methods for accessing resources (searching for keywords, places, or dates), and it should conform to the platform's terms of service (important for partnering and publications).\n",
    "Note however that each of these platforms has strict limits on access times: e.g., requests per hour, search history depth, maximum number of items returned per request, and similar."
   ]
  },
  {
   "cell_type": "markdown",
   "metadata": {},
   "source": [
    "<hr>\n",
    "<img src=\"files/RedditLogo.jpg\" width=\"20%\">\n",
    "\n",
    "## Topic 2.1: Reddit API\n",
    "\n",
    "Reddit's API is probably the easiest to use and does not require credentials to access data on its subreddit pages.\n",
    "Instead, one need only provide a semi-unique User-Agent string that identifies the application or purpose.\n",
    "I'm not sure what will happen if the user-agent is duplicated, but I don't think it would be a big deal other than possible blocks or loss of access if a particularly malicious user uses the same user-agent string."
   ]
  },
  {
   "cell_type": "code",
   "execution_count": 131,
   "metadata": {
    "collapsed": true
   },
   "outputs": [],
   "source": [
    "# For our first piece of code, we need to import the package \n",
    "# that connects to Reddit. Praw is a thin wrapper around reddit's \n",
    "# web APIs and works well\n",
    "\n",
    "import praw"
   ]
  },
  {
   "cell_type": "code",
   "execution_count": 133,
   "metadata": {
    "collapsed": true
   },
   "outputs": [],
   "source": [
    "# Now we specify a \"unique\" user agent for our code\n",
    "# This is primarily for identification, I think, and some\n",
    "# user-agents of bad actors might be blocked\n",
    "redditApi = praw.Reddit(user_agent='crisis_informatics_v01')"
   ]
  },
  {
   "cell_type": "markdown",
   "metadata": {},
   "source": [
    "### Capturing Reddit Posts\n",
    "\n",
    "Now for a given subreddit, we can get the newest posts to that sub. \n",
    "Post titles are generally short, so you could treat them as something similar to a tweet."
   ]
  },
  {
   "cell_type": "code",
   "execution_count": 136,
   "metadata": {
    "collapsed": false
   },
   "outputs": [
    {
     "name": "stdout",
     "output_type": "stream",
     "text": [
      "My Shiba and Her Pup Just Had a \"Moment\"\n",
      "My scruffy looking nerf herder turned 1... Treats for everybody!\n",
      "Our Daughter's new friend\n",
      "French strikers to shut nuclear power plant in bid to see labour reforms scrapped as country forced to dip into strategic fuel reserves\n",
      "On a nice sunny day he likes to get behind these bushes, prop his head up on a forked branch and enjoy the the heat\n",
      "Italy receives 2,600 migrants in just 24 hours\n",
      "State Dept. watchdog: Clinton violated email rules\n",
      "Putin Releases Ukrainian Pilot After 2 Years In Prison\n",
      "Taliban Name Lesser-Known Cleric as Their New Leader\n",
      "How i got woken up this morning. Thanks oso..\n"
     ]
    }
   ],
   "source": [
    "subreddit = \"worldnews\"\n",
    "\n",
    "submissions = redditApi.get_subreddit(subreddit).get_new(limit=10)\n",
    "for post in submissions:\n",
    "    print post.title"
   ]
  },
  {
   "cell_type": "markdown",
   "metadata": {},
   "source": [
    "### Leveraging Reddit's Voting\n",
    "\n",
    "Getting the new posts gives us the most up-to-date information. \n",
    "You can also get the \"hot\" posts, \"top\" posts, etc. that should be of higher quality. \n",
    "In theory.\n",
    "__Caveat emptor__"
   ]
  },
  {
   "cell_type": "code",
   "execution_count": 135,
   "metadata": {
    "collapsed": false
   },
   "outputs": [
    {
     "name": "stdout",
     "output_type": "stream",
     "text": [
      "Adidas shoe manufacture returns to Germany, fully automated instead of relying on human labour in Asia\n",
      "Tony Blair: Britain and US ‘profoundly’ underestimated chaos brought about by toppling of Saddam Hussein | People | News\n",
      "South Africa Just Lifted Its Ban on the Rhino Horn Trade\n",
      "Poland starts logging primeval Bialowieza forest despite protests: More than 180,000 cubic metres of forest to be cut down in area that is home to Europe’s largest mammal and tallest trees\n",
      "Grizzlies & polar bears are now mating - \"I hate to say it, but from a genetic perspective, it’s quite likely grizzly bears will eat polar bears up, genetically.\" Warming Arctic allowing the 2 species to come into contact more often.\n"
     ]
    }
   ],
   "source": [
    "subreddit = \"worldnews\"\n",
    "\n",
    "submissions = redditApi.get_subreddit(subreddit).get_hot(limit=5)\n",
    "for post in submissions:\n",
    "    print post.title"
   ]
  },
  {
   "cell_type": "markdown",
   "metadata": {},
   "source": [
    "### Following Multiple Subreddits\n",
    "\n",
    "Reddit has a mechanism called \"multireddits\" that essentially allow you to view multiple reddits together as though they were one.\n",
    "To do this, you need to concatenate your subreddits of interesting using the \"+\" sign."
   ]
  },
  {
   "cell_type": "code",
   "execution_count": 153,
   "metadata": {
    "collapsed": false
   },
   "outputs": [
    {
     "name": "stdout",
     "output_type": "stream",
     "text": [
      "Bunny Will Win Your Heart\n",
      "Professor: Fighting Global Warming Will Impoverish Everyone\n",
      "The eggs under my balcony hatched!\n",
      "For my cake day I thought I would share my kitty sherlock, who looks like he will kill me if I turn heater off!\n",
      "Found this little guy on the side of the road this morning. Man he sure is loud!\n",
      "When life hands you a bundle of baby St. Bernards...\n",
      "Aow rackün.... rackün, stahp!\n",
      "Brother and Sister\n",
      "Koala Konga!\n",
      "During the second day of U.S. President Barack Obama’s three-day visit to Vietnam, Obama continued to push for passage of the Trans-Pacific Partnership trade deal\n"
     ]
    }
   ],
   "source": [
    "subreddit = \"worldnews+aww\"\n",
    "\n",
    "submissions = redditApi.get_subreddit(subreddit).get_new(limit=10)\n",
    "for post in submissions:\n",
    "    print post.title"
   ]
  },
  {
   "cell_type": "markdown",
   "metadata": {},
   "source": [
    "### Accessing Reddit Comments\n",
    "\n",
    "While you're never supposed to read the comments, for certain live streams or new and rising posts, the comments may provide useful insight into events on the ground or people's sentiment.\n",
    "New posts may not have comments yet though.\n",
    "\n",
    "Comments are attached to the post title, so for a given submission, you can pull its comments directly.\n",
    "\n",
    "Note Reddit returns pages of comments to prevent server overload, so you will not get all comments at once and will have to write code for getting more comments than the top ones returned at first.\n",
    "This pagination is performed using the MoreXYZ objects (e.g., MoreComments or MorePosts)."
   ]
  },
  {
   "cell_type": "code",
   "execution_count": 152,
   "metadata": {
    "collapsed": false,
    "scrolled": false
   },
   "outputs": [
    {
     "name": "stdout",
     "output_type": "stream",
     "text": [
      "Adidas shoe manufacture returns to Germany, fully automated instead of relying on human labour in Asia\n",
      "--- t1_d3iz783 ---\n",
      "\tFast forward 20 years, and they go back to Asia for cheaper maintenance of autofabs.\n",
      "\t--- t1_d3izrjd ---\n",
      "\t\tYou can ship auto fab shops, you cannot ship people for labour (anymore). \n",
      "\t--- t1_d3j0jrw ---\n",
      "\t\tIn 20 years robots will be fixing robots and we will be laying around watching \"ow my balls\" all day long. \n",
      "--- t1_d3iw3rx ---\n",
      "\tThis is the best tl;dr I could make, [original](http://www.theguardian.com/world/2016/may/25/adidas-to-sell-robot-made-shoes-from-2017) reduced by 65%. (I'm a bot)\n",
      "*****\n",
      "> More than 20 years after Adidas ceased production activities in Germany and moved them to Asia, chief executive Herbert Hainer unveiled to the press the group&#039;s new prototype &quot;Speedfactory&quot; in Ansbach, southern Germany.\n",
      "\n",
      "> The 4,600-square-metre plant is still being built but Adidas opened it to the press, pledging to automate shoe production - which is currently done mostly by hand in Asia - and enable the shoes to be made more quickly and closer to its sales outlets.\n",
      "\n",
      "> In the longer term Adidas is planning to build robot-operated factories in Britain or in France, and could even produce the shirts of Germany&#039;s national football team in its home country, said Hainer.\n",
      "\n",
      "\n",
      "*****\n",
      "[**Extended Summary**](http://np.reddit.com/r/autotldr/comments/4kyxhy/adidas_shoe_manufacture_returns_to_germany_fully/) | [FAQ](http://np.reddit.com/r/autotldr/comments/31b9fm/faq_autotldr_bot/ \"Version 1.6, ~60651 tl;drs so far.\") | [Theory](http://np.reddit.com/r/autotldr/comments/31bfht/theory_autotldr_concept/) | [Feedback](http://np.reddit.com/message/compose?to=%23autotldr \"PMs and comment replies are read by the bot admin, constructive feedback is welcome.\") | *Top* *keywords*: **Adidas**^#1 **factory**^#2 **shoe**^#3 **Asia**^#4 **Germany**^#5\n",
      "\t--- t1_d3izool ---\n",
      "\t\tHere come the bots stealing karma from hard working redditors.\n",
      "\t--- t1_d3j0dgo ---\n",
      "\t\tThis is so oddly meta and extraordinarily fitting that it's almost touching. \n",
      "\n",
      "Have my upvote, bot, you deserve it! (And please don't kill me when you take over)\n"
     ]
    }
   ],
   "source": [
    "subreddit = \"worldnews\"\n",
    "\n",
    "breadthCommentCount = 2\n",
    "\n",
    "submissions = redditApi.get_subreddit(subreddit).get_hot(limit=1)\n",
    "for post in submissions:\n",
    "    print post.title\n",
    "    \n",
    "    # Get the top few comments\n",
    "    for comment in post.comments[:breadthCommentCount]:\n",
    "        if isinstance(comment, praw.objects.MoreComments):\n",
    "            continue\n",
    "        \n",
    "        print \"---\", comment.name, \"---\"\n",
    "        print \"\\t\", comment.body\n",
    "        \n",
    "        for reply in comment.replies[:breadthCommentCount]:\n",
    "            if isinstance(reply, praw.objects.MoreComments):\n",
    "                continue\n",
    "            \n",
    "            print \"\\t\", \"---\", reply.name, \"---\"\n",
    "            print \"\\t\\t\", reply.body"
   ]
  },
  {
   "cell_type": "markdown",
   "metadata": {},
   "source": [
    "### Other Functionality\n",
    "\n",
    "Reddit has a deep comment structure, and the code above only goes two levels down (top comment and top comment reply). \n",
    "You can view Praw's additional functionality, replete with examples on its website here: http://praw.readthedocs.io/"
   ]
  },
  {
   "cell_type": "markdown",
   "metadata": {},
   "source": [
    "<hr>\n",
    "<img src=\"files/FacebookLogo.jpg\" width=\"20%\">\n",
    "\n",
    "## Topic 2.2: Facebook API\n",
    "\n",
    "Getting access to Facebook's API is slightly easier than Twitter's in that you can go to the Graph API explorer, grab an access token, and immediately start playing around with the API.\n",
    "The access token isn't good forever though, so if you plan on doing long-term analysis or data capture, you'll need to go the full OAuth route and generate tokens using the approved paths."
   ]
  },
  {
   "cell_type": "code",
   "execution_count": 9,
   "metadata": {
    "collapsed": false
   },
   "outputs": [],
   "source": [
    "# As before, the first thing we do is import the Facebook\n",
    "# wrapper\n",
    "\n",
    "import facebook"
   ]
  },
  {
   "cell_type": "markdown",
   "metadata": {},
   "source": [
    "### Connecting to the Facebook Graph\n",
    "\n",
    "Facebook has a \"Graph API\" that lets you explore its social graph. \n",
    "For privacy concerns, however, Facebook's Graph API is extremely limited in the kinds of data it can view.\n",
    "For instance, Graph API applications can now only view profiles of people who already have installed that particular application.\n",
    "These restrictions make it quite difficult to see a lot of Facebook's data.\n",
    "\n",
    "That being said, Facebook does have many popular public pages (e.g., BBC World News), and articles or messages posted by these public pages are accessible.\n",
    "In addition, many posts and comments made in reply to these public posts are also publically available for us to explore.\n",
    "\n",
    "To connect to Facebook's API though, we need an access token (unlike Reddit's API).\n",
    "Fortunately, for research and testing purposes, getting an access token is very easy.\n",
    "\n",
    "#### Acquiring a Facebook Access Token\n",
    "\n",
    "1. Log in to your Facebook account\n",
    "1. Go to Facebook's Graph Explorer (https://developers.facebook.com/tools/explorer/)\n",
    "1. Copy the *long* string out of \"Access Token\" box and paste it in the code cell bedlow\n",
    "\n",
    "<img src=\"files/FacebookInstructions_f1.png\"/>"
   ]
  },
  {
   "cell_type": "code",
   "execution_count": 154,
   "metadata": {
    "collapsed": true
   },
   "outputs": [],
   "source": [
    "fbAccessToken = \"EAACEdEose0cBAPHZCVEKwbUFbObQpqxXjsUGMnypoma9r2IJseYawZAkzm6HNqtJRpvFAxspIDC2yHHqJEvv63OvXAWBGP3vfIqxxIpoO5ZBgb0Gip9ZAx2XdcfI12QlkYM2kGNl4YHMonakAELw8Br8RDRCOXXJZATwJEratPAZDZD\""
   ]
  },
  {
   "cell_type": "markdown",
   "metadata": {},
   "source": [
    "Now we can use the Facebook Graph API with this temporary access token (it does expire after maybe 15 minutes)."
   ]
  },
  {
   "cell_type": "code",
   "execution_count": 156,
   "metadata": {
    "collapsed": false
   },
   "outputs": [],
   "source": [
    "# Connect to the graph API, note we use version 2.5\n",
    "graph = facebook.GraphAPI(access_token=fbAccessToken, version='2.5')"
   ]
  },
  {
   "cell_type": "markdown",
   "metadata": {},
   "source": [
    "### Parsing Posts from a Public Page\n",
    "\n",
    "To get a public page's posts, all you need is the name of the page. \n",
    "Then we can pull the page's feed, and for each post on the page, we can pull its comments and the name of the comment's author.\n",
    "While it's unlikely that we can get more user information than that, author name and sentiment or text analytics can give insight into bursting topics and demographics."
   ]
  },
  {
   "cell_type": "code",
   "execution_count": 165,
   "metadata": {
    "collapsed": false,
    "scrolled": true
   },
   "outputs": [
    {
     "name": "stdout",
     "output_type": "stream",
     "text": [
      "---\n",
      "Q&A: Pamela Paul, editor of The New York Times Book Review, is here to answer your questions about how books get reviewed. \n",
      "\n",
      "Ever wondered how we choose the books or where we store all the galleys? Ask your questions for Pamela in the comments. 5281959998_10150815787194999\n",
      "Comments:\n",
      "\t0 John Geremia SHillary politicized dead first graders but excused herself for millions of dead Iraqis and thousands of dead and injured American veterans. Said, guns were coming into New York from Vermont.....desperate liar.........\n",
      "\n",
      " She was wrong on NAFTA, TPP, Minimum $12 wage, Marriage equality, using a private server, voting on the Iraq War and the Patriot Act, and The Panama Trade Agreement. What makes her a good candidate? I was at the Nevada convention. Nothing was thrown aNd there was no violence.\n",
      "\t1 Mohammed Junaid Good review keep it up\n",
      "\t2 Abel Pam Let's get to work!\n",
      "\t3 Sarabh Rai 😎😎😎\n",
      "\t4 Annie Medina Hello\n",
      "---\n",
      "“As a child, my classmates would make fun of me by calling me a redskin. I’m sure they did not say it as a compliment.”\n",
      "—Monica Draper, a member of the Navajo Nation 5281959998_10150815687079999\n",
      "Comments:\n",
      "\t0 Kirk Grosch Who really cares what the Times readers say? Last time I checked, the team is still in Washington DC right? If the owner, fans, season ticket holders and advertising sponsors are don't object and there is very little objection for the Native Americans, while should there be any further discussion on this matter.\n",
      "\t1 Wilford Rios Carvajal You name your team after something that you are proud of and admire. The Redskins name has a long history of pride for the DC area. Nothing derogatory about it.\n",
      "\n",
      "I know it’s off topic, but our country is losing it’s freedoms. We have Donald Sterling forced to sell his NBA team, Danny Ferry forced to leave the Hawks. We have expensive health insurance forced on all of us. Even auto insurance is forced on us (thank god for $25/month Insurance Panda coverage). What’s next? Mandatory iPhone insurance? We have taxes on top of taxes and our freedoms are slowly disappearing. Thomas Jefferson and George Washington would be rolling in their graves.\n",
      "\n",
      "Pick and choose...that's the way to govern. I remember America of old :(\n",
      "\t2 Marc Sylvestre The government should have no say or way of punishing private clubs for merely having a name people find offensive. \n",
      "What is \"offensive\" is purely subjective. Everybody is free to hate on the Redskins, to boycott Redskins games, to not buy Redskins merchandise, and to root for everybody who plays against the Redskins.\n",
      "Once you demand the government use the power of law to punish somebody for offending you, you have crossed a line, at that point you're unAmerican.\n",
      "\t3 Rick Lingerfelt As per a Washington Post poll 90% of Native Americans are ok with the name and don't want to see it changed.\n",
      "\t4 LK Wood All this whining is so unnecessary. Everyone got called names when they were kids. If they didn't call you that, they would've called you something else.\n",
      "---\n",
      "These tips, when used properly, will almost definitely save you a big chunk of money. 5281959998_10150815677134999\n",
      "Comments:\n",
      "\t0 Darryl DeMag Also, if you are flying to and from a foreign country, you can often get cheaper tickets if you purchase them from the website of the airline in the foreign country instead of US airline websites.\n",
      "\t1 Celeste Barillas-Celec You cannot fly back to your origin city, and have a stop-over ... this breaks the fare and you then need to start over for your Anchorage example.  No airline will allow you to do that.\n",
      "\t2 James Horton Saving money. Hmmmm.\n",
      "1. Try not to live paycheck to paycheck. Plan for life sucking at times.\n",
      "2. Try to have six months of budget saved up.\n",
      "3. If married, or have children, get life insurance.\n",
      "4. Try to enter into retirement debt free. You can save on things like gym (at Planet Fitness) and car insurance ($24/month at Insurance Panda). Try to cut back wherever.\n",
      "5. Look at your family medical history. Average out how long your ancestors lived. Add 5 years to that average. Is it 68? 75? 92?\n",
      "6. Now, plan to have what ever your budget is plus a 5% increase per year. If you have a 2k monthly budget now, that is 24k per year. Multiply that times an extra 5% per year. Finally, multiply that for how long you intend or think you will live. Me? My number is 144k (2kx12monthsx6years)(average family death=66 so I go to 71 (if I retire at 65).\n",
      "My number will rise with inflation.\n",
      "Now, this notion that we all need to save (or invest in 401's) 1 or 1.5 million dollars is what the BANKS want you to do.\n",
      "7. What do I do with the rest of the money? LIVE LIFE TO THE FULLEST EVERYDAY YOU ARE ALIVE!!!!!!\n",
      "\t3 Elizabeth Wells Lauren Agostinelli\n",
      "\t4 Jeffrey Maddalena Lisa Chiappa\n",
      "---\n",
      "Breaking News: The State Department's inspector general  sharply criticized Hillary Clinton over her private email server, saying she never got permission to use it. 5281959998_10150815759849999\n",
      "Comments:\n",
      "\t0 Sam Cooper And this, folks, is why she's a weak candidate. Call us lazy millenials or \"Bernie Bros\" all you want, we don't want a president who thinks the rules don't apply to her.\n",
      "\t1 Scharon Ball Umm, did you miss the part about how this went well beyond any one Secretary of State? Meaning that she did the same thing that many other state department officials have been doing for years. This is yet another GOP-manufactured scandal designed to bring a strong woman down. I'm still with her!\n",
      "\t2 Scott S. Trudell Not only did her use of the secret server shield her communications from open-records laws, but she also broke department policy by failing to report several hacking attempts, the inspector general said in an 83-page investigative report.\n",
      "\t3 Susan Inglis This is a state department email security issue that predates Hillary and NOT a Hillary Clinton issue. Everyone knows this, but we still have to keep saying it.\n",
      "\t4 Mark Gonzalez Hillary Clinton Can NO longer Hold Any Office.\n",
      "18 US code 2071\n",
      "(a) Whoever willfully and unlawfully conceals, removes, mutilates,\n",
      "obliterates, or destroys, or attempts to do so, or, with intent to do so takes and carries away any record, proceeding, map, book, paper, document, or other thing, filed or deposited with any clerk or officer of any court of the United States, or in any public office, or with any judicial or public officer of the United States, shall be fined under this title or imprisoned not more than three years, or both.\n",
      "(b) Whoever, having the custody of any such record, proceeding, map, book, document, paper, or other thing, willfully and unlawfully conceals, removes, mutilates, obliterates, falsifies, or destroys the same, shall be fined under this title or imprisoned not more than three years, or both; and shall forfeit his office and be disqualified from holding any office under the United States. As used in this subsection, the term “office” does not include the office held by any person as a retired officer of the Armed Forces of the United States.\n",
      "Hillary Clinton deleted 30,000 State department emails that were on her personal email server.\n",
      "\n",
      "Many people who may vote in the democratic primary election and the general election in 2016 have no real knowledge of Mrs. Clinton or her accomplishments. As a public service, I thought I would provide some input regarding her triumphs for consideration.\n",
      "\n",
      "When Bill Clinton was president, he allowed Hillary to assume authority over a health care reform. Even after threats and intimidation, she couldn’t even get a vote in a democratic controlled congress. This fiasco cost the American taxpayers about $13 million in cost for studies, promotion, and other efforts.\n",
      "\n",
      "Then President Clinton gave Hillary authority over selecting a female attorney general. Her first two selections were Zoe Baird and Kimba Wood – both were forced to withdraw their names from consideration. Next she chose Janet Reno – husband Bill described her selection as “my worst mistake.” Some may not remember that Reno made the decision to gas David Koresh and the Branch Davidian religious sect in Waco, Texas resulting in dozens of deaths of women and children.\n",
      "\n",
      "Husband Bill allowed Hillary to make recommendations for the head of the Civil Rights Commission. Lani Guanier was her selection. When a little probing led to the discovered of Ms. Guanier’s radical views, her name had to be withdrawn from consideration.\n",
      "\n",
      "Apparently a slow learner, husband Bill allowed Hillary to make some more recommendations. She chose former law partners Web Hubbel for the Justice Department, Vince Foster for the White House staff, and William Kennedy for the Treasury Department. Her selections went well: Hubbel went to prison, Foster (presumably) committed suicide, and Kennedy was forced to resign.\n",
      "Many younger voters will have no knowledge of “Travelgate.” Hillary wanted to award unfettered travel contracts to Clinton friend Harry Thompson – and the White House Travel Office refused to comply. She managed to have them reported to the FBI and fired. This ruined their reputations, cost them their jobs, and caused a thirty-six month investigation. Only one employee, Billy Dale was charged with a crime, and that of the enormous crime of mixing personal and White House funds. A jury acquitted him of any crime in less than two hours\n",
      "Still not convinced of her ineptness, Hillary was allowed to recommend a close Clinton friend, Craig Livingstone, for the position of Director of White House security. When Livingstone was investigated for the improper access of about 900 FBI files of Clinton enemies (Filegate) and the widespread use of drugs by White House staff, suddenly Hillary and the president denied even knowing Livingstone, and of course, denied knowledge of drug use in the White House. Following this debacle, the FBI closed its White House Liaison Office after more than thirty years of service to seven presidents.\n",
      "\n",
      "Next, when women started coming forward with allegations of sexual harassment and rape by Bill Clinton, Hillary was put in charge of the “bimbo eruption” and scandal defense. Some of her more notable decisions in the debacle were:\n",
      "· She urged her husband not to settle the Paula Jones lawsuit. After the Starr investigation they settled with Ms. Jones.\n",
      "· She refused to release the Whitewater documents, which led to the appointment of Ken Starr as Special Prosecutor. After $80 million dollars of taxpayer money was spent, Starr’s investigation led to Monica Lewinsky, which led to Bill lying about and later admitting his affairs.\n",
      "· Hillary’s devious game plan resulted in Bill losing his license to practice law for lying under oath to a grand jury and then his subsequent impeachment by the House of Representatives.\n",
      "· Hillary avoided indictment for perjury and obstruction of justice during the Starr investigation by repeating, “I do not recall,” “I have no recollection,” and “I don’t know” a total of 56 times while under oath.\n",
      "· After leaving the White House, Hillary was forced to return an estimated $200,000 in White House furniture, china, and artwork that she had stolen.\n",
      "Now we are exposed to: the destruction of possibly incriminating emails while Hillary was Secretary of State and the “pay to play” schemes of the Clinton Foundation – we have no idea what shoe will fall next. But to her loyal fans – “what difference does it make?”\n",
      "---\n",
      "A Silicon Valley billionaire might have been secretly funding Hulk Hogan's lawsuit against Gawker. 5281959998_10150815748379999\n",
      "Comments:\n",
      "\t0 Joseph Michael Nice try shilling got Gawker NYTimes/Facebook (Yes FB, I'm sure you bumped this deliberately, because I doubt it has enough interest otherwise): No one cares/no one's buying it anymore.\n",
      "\t1 Zachary Davis Good. Hulkamania's coming for Gawker and all their rag publications.\n",
      "\t2 Josué David Maldonado Kill Gawker. who cares whose money you do it with?\n",
      "\t3 Max Lopez Thiel is a Hulkamaniac.\n",
      "\t4 Ken Scobie And?\n",
      "---\n",
      "The killing of the top Taliban leader in Pakistan will strain U.S.-Pakistani relations. But other effects are less predictable. Read on in The New York Times Opinion Section. 5281959998_10150815596314999\n",
      "Comments:\n",
      "\t0 Sandy Jordan The Pakistanis were fully cooperative with the USA taking out OBL. Cost of doing business here too. Like the Saudis the Pakistani's have third problems with this issue.\n",
      "\t1 Ashish Bhatt it wont..not even a slightest.. the moment US announce economic AID  to pakistan...all relation will reestablished.. same thing happened after killing of BIN LADEN in pakistan.\n",
      "\t2 Joe Vaughn Why does the strike strain relations between us and Pakistan? Was he one of the countrys heros? It wouldnt surprise me\n",
      "\t3 Ajmal Khan Kakar The Taliban are the moral equivalents of American Founding Fathers - Ronald Reagan, 1985\n",
      "\t4 Viji Anantharaman Please tell me what the US stands to gain from good relations with Pakistan?\n",
      "---\n",
      "For people with disabilities and their families, the battle for accessible toilet facilities has been going on for decades. 5281959998_10150815633579999\n",
      "Comments:\n",
      "\t0 Laurie Stevens Installing single-stalled, unisex, disability accessible restrooms to our buildings as an architectural norm would solve both of these problems.\n",
      "\t1 Sherry Sons You would have thought someone with disabilities having more accommodations would have been an issue long before now. Ive been in the restroom where the single stall that was meant for a handicapped person was taken by someone who was not handicapped and they had to get a worker to help them into one of the other stalls. That had to be embarrassing- but hey we gotta help those men who are feeling like women have access to the bathrooms because that is more important than our disabled.\n",
      "\t2 Michelle Petrano Logan Newsflash: nobody cares about the disabled/women/kids. Only after a man and his feelings needed access do they suddenly care.\n",
      "\t3 Andre Westerhuis This problem has been put on the back burner for generations. 1 in 5 of us is disabled, 56.7 million Americans (2010). There is something rotten in Denmark (it's okay, I'm Danish, once removed). And, what's rotten isn't in Denmark at all. It's right here, in our own country. Our needful citizens have had to take back stall to the fully capable. And now, all this new and sudden concern for the 0.3% Remarkable!\n",
      "\t4 Jordana Adkins Hayes My son is severely autistic and was in diapers until age 13. There is practically no where in public to change  the diaper of a nearly 200 pound person. It makes families like mine even more isolated than we already are.\n",
      "---\n",
      "Ahead of Barack Obama's trip to Hiroshima, NYT’s Motoko Rich spoke with Sunao Tsuboi, a 91-year-old survivor of the atomic blast in Hiroshima. 5281959998_10150815704199999\n",
      "Comments:\n",
      "\t0 Rob Hazer Your government chose to attack the US and kill soldiers and citizens. We swung a bigger bat. Now I'm not heartless and I feel for your struggle, but I'm not sorry our country reacted. Obama is a coward and does not speak for Americans. We do not apologize and if you're looking to lay blame, look towards your own government. Enjoy peace, but don't be afraid to defend yourself. Even after they were defeated and Germany fell to allied forces, Japan still insisted on fighting. SMH. Sorry, not sorry. I respect your story of survival though. #MLIU\n",
      "\t1 Brian Sturgeon good thing for that bomb........there would be alot more inocent people dead and suffering. yep its ashame but very true.\n",
      "\t2 Thavasumuthu Rethinasamy Please forgive America for not asking apology for Hiroshima nuclear bombing .\n",
      "\t3 Lola Mamman Excellent reporting, as usual, Motoko.\n",
      "\t4 Joost Plugge Innocent victims, devastating, good to tell/share his story.\n",
      "---\n",
      "\"The mainstream Hollywood thinking still seems to be that movies and stories about straight white people are universal, and that anyone else is more niche,\" Aziz Ansari wrote. \"It's just not true.\" 5281959998_10150815694634999\n",
      "Comments:\n",
      "\t0 The New York Times \"The roles I'm offered are often defined by ethnicity and often require accents,\" Aziz Ansari wrote last year. http://nyti.ms/1Myjjd0\n",
      "\t1 Jeff Martin Cue angry white people flailing against diversity in 3...2....1....\n",
      "\t2 Kari Tabag As a Filipina American Doctoral student, my field of study focuses on AA's. There are approximately 24 Asian subgroups. We are an invisible minority not only in the film industry but in many other areas: healthcare (particularly mental health) recipients, politics, (higher) education, and so on. While this article is a start, much more needs to be done. Perhaps AA actors can join advocacy groups and politicians in promoting racial and social justice for AA's.\n",
      "\t3 Darren Venn A few years back when I was making some small independent films we cast a young asian-american woman as the female lead in one of our films, \"Diving\". We weren't attached to the race of the character and the actress, Sandra Young, was simply the best fit for the role. I was surprised at the amount of feedback I got about the casting. People said it was a \"brave\" or unusual. I hadn't really paid any attention to it before but that experience made me realize how underrepresented asian-american actors are.\n",
      "\t4 Wei-Hsiang Huang In Taiwan, people watch both Hollywood films and Taiwanese films. We don't have problem with watching people of difference races as the leading roles.\n",
      "\n",
      "In the U.S., people only prefer to watch movies led by white actors/actresses\n",
      "---\n",
      "For weeks, Hillary Clinton struggled to find a line of attack that could work against Donald J. Trump. She appears to have found one now. 5281959998_10150815672574999\n",
      "Comments:\n",
      "\t0 Erik Hoffmann Yeah ... because Hillary never took advantage of a situation to profit financially. This election cycle is the worst in American history.\n",
      "\t1 Mike Ryan We've gotten to the point where the Sandernistas are now helping to defend Donald Trump, so great is their hatred of Hillary. Amazing to watch.\n",
      "\t2 Nancy Peske Narcissists care only about themselves. Why are so many Americans unable to spot a narcissist? Trump is a classic case.\n",
      "\t3 Steve Graybill foolish  clintoons  and  associates  came up with that?   Trump had nothing to do with the collapse and to call it a collapse  is  pur idiotic nonsense, it was a manipulation by government and banking to ruin Americans  it has been proven it was a planed event, Furthermore to  claim Trump took advantage of the  this so called \"collapse\" is like saying  anyone who participated in \"flipping houses\" and profited  are equally  what?  If this is all Hlary  and gang can come up with  they  are  totally  lost.\n",
      "\t4 Eve Dantelicia Tally The housing bubble was caused by Clintons loosing up the bank loans requirements for house purchases. Trump used a tool Clinton created, how does that make him responsible? How is he more responsible than the Goldman Sachs and  other banks which have been giving millions to Hillary's campaign. Way to take folks for idiots.\n"
     ]
    }
   ],
   "source": [
    "# What page to look at?\n",
    "targetPage = \"nytimes\"\n",
    "\n",
    "# Other options for pages:\n",
    "# nytimes, bbc, bbcamerica, bbcafrica, redcross, disaster\n",
    "\n",
    "maxPosts = 10 # How many posts should we pull?\n",
    "maxComments = 5 # How many comments for each post?\n",
    "\n",
    "post = graph.get_object(id=targetPage + '/feed')\n",
    "\n",
    "# For each post, print its message content and its ID\n",
    "for v in post[\"data\"][:maxPosts]:\n",
    "    print \"---\"\n",
    "    print v[\"message\"], v[\"id\"]\n",
    "        \n",
    "    # For each comment on this post, print its number, \n",
    "    # the name of the author, and the message content\n",
    "    print \"Comments:\"\n",
    "    comments = graph.get_object(id='%s/comments' % v[\"id\"])\n",
    "    for (i, comment) in enumerate(comments[\"data\"][:maxComments]):\n",
    "        print \"\\t\", i, comment[\"from\"][\"name\"], comment[\"message\"]\n"
   ]
  },
  {
   "cell_type": "markdown",
   "metadata": {},
   "source": [
    "<hr>\n",
    "<img src=\"files/TwitterLogo.png\" width=\"20%\">\n",
    "\n",
    "## Topic 2.1: Twitter API\n",
    "\n",
    "Twitter's API is probably the most useful and flexible but takes several steps to configure. \n",
    "To get access to the API, you first need to have a Twitter account and have a mobile phone number (or any number that can receive text messages) attached to that account.\n",
    "Then, we'll use Twitter's developer portal to create an \"app\" that will then give us the keys tokens and keys (essentially IDs and passwords) we will need to connect to the API.\n",
    "\n",
    "So, in summary, the general steps are:\n",
    "\n",
    "0. Have a Twitter account,\n",
    "1. Configure your Twitter account with your mobile number,\n",
    "2. Create an app on Twitter's developer site, and\n",
    "3. Generate consumer and access keys and secrets.\n",
    "\n",
    "We will then plug these four strings into the code below."
   ]
  },
  {
   "cell_type": "code",
   "execution_count": 82,
   "metadata": {
    "collapsed": true
   },
   "outputs": [],
   "source": [
    "# For our first piece of code, we need to import the package \n",
    "# that connects to Twitter. Tweepy is a popular and fully featured\n",
    "# implementation.\n",
    "\n",
    "import tweepy"
   ]
  },
  {
   "cell_type": "markdown",
   "metadata": {},
   "source": [
    "### Creating Twitter Credentials\n",
    "\n",
    "For more in-depth instructions for creating a Twitter account and/or setting up a Twitter account to use the following code, I will provide a walkthrough on configuring and generating this information.\n",
    "\n",
    "First, we assume you already have a Twitter account.\n",
    "If this is not true, either create one real quick or follow along.\n",
    "See the attached figures.\n",
    "\n",
    "- __Step 1. Create a Twitter account__ If you haven't already done this, do this now at Twitter.com.\n",
    "\n",
    "- __Step 2. Setting your mobile number__ Log into Twitter and go to \"Settings.\" From there, click \"Mobile\" and fill in an SMS-enabled phone number. You will be asked to confirm this number once it's set, and you'll need to do so before you can create any apps for the next step.\n",
    "\n",
    "<img src=\"files/TwitterInstructions_f1.png\" scale=\"10%\"/>\n",
    "<img src=\"files/TwitterInstructions_f2.png\" scale=\"10%\"/>\n",
    "\n",
    "- __Step 3. Create an app in Twitter's Dev site__ Go to (apps.twitter.com), and click the \"Create New App\" button. Fill in the \"Name,\" \"Description,\" and \"Website\" fields, leaving the callback one blank (we're not going to use it). Note that the website __must__ be a fully qualified URL, so it should look like: http://test.url.com. Then scroll down and read the developer agreement, checking that agree, and finally click \"Create your Twitter application.\"\n",
    "\n",
    "<img src=\"files/TwitterInstructions_f3.png\" scale=\"10%\"/>\n",
    "<img src=\"files/TwitterInstructions_f4.png\"/>\n",
    "\n",
    "- __Step 4. Generate keys and tokens with this app__ After your application has been created, you will see a summary page like the one below. Click \"Keys and Access Tokens\" to view and manage keys. Scroll down and click \"Create my access token.\" After a moment, your page should refresh, and it should show you four long strings of characters and numbers, a consume key, consumer secret, an access token, and an access secret (note these are __case-sensitive__!). Copy and past these four strings into the quotes in the code cell below.\n",
    "\n",
    "<img src=\"files/TwitterInstructions_f5.png\" scale=\"10%\"/>\n",
    "<img src=\"files/TwitterInstructions_f6.png\"/>"
   ]
  },
  {
   "cell_type": "code",
   "execution_count": 6,
   "metadata": {
    "collapsed": false
   },
   "outputs": [],
   "source": [
    "# Use the strings from your Twitter app webpage to populate these four \n",
    "# variables. Be sure and put the strings BETWEEN the quotation marks\n",
    "# to make it a valid Python string.\n",
    "\n",
    "consumer_key = \"pKkrahWC8Jn4WcJvUq7oFVX6v\"\n",
    "consumer_secret = \"xEQQLEN2wYqY8aUTFLIseXzMx1RWiUDuVmxHTjvYZHAKILTVs7\"\n",
    "access_token = \"363200844-POQQShs80z3dgULoNAZlFw8KsNbAMyVBIDT2YZPP\"\n",
    "access_secret = \"qrAnYEun1uHVdIIdXk2CLV7PKN3OpcEdjeaejzimlVNac\""
   ]
  },
  {
   "cell_type": "markdown",
   "metadata": {},
   "source": [
    "### Connecting to Twitter\n",
    "\n",
    "Once we have the authentication details set, we can connect to Twitter using the Tweepy OAuth handler, as below."
   ]
  },
  {
   "cell_type": "code",
   "execution_count": 85,
   "metadata": {
    "collapsed": false
   },
   "outputs": [
    {
     "name": "stdout",
     "output_type": "stream",
     "text": [
      "Connected to Twitter!\n"
     ]
    }
   ],
   "source": [
    "# Now we use the configured authentication information to connect\n",
    "# to Twitter's API\n",
    "auth = tweepy.OAuthHandler(consumer_key, consumer_secret)\n",
    "auth.set_access_token(access_token, access_secret)\n",
    "\n",
    "api = tweepy.API(auth)\n",
    "\n",
    "print \"Connected to Twitter!\""
   ]
  },
  {
   "cell_type": "markdown",
   "metadata": {},
   "source": [
    "### Testing our Connection\n",
    "\n",
    "Now that we are connected to Twitter, let's do a brief check that we can read tweets by pulling the first few tweets from our own timeline (or the account associated with your Twitter app) and printing them."
   ]
  },
  {
   "cell_type": "code",
   "execution_count": 93,
   "metadata": {
    "collapsed": false
   },
   "outputs": [
    {
     "name": "stdout",
     "output_type": "stream",
     "text": [
      "haldaume3 Hal Daumé III said: Congrats Graham! (Sorry to say Japanese food in Pgh, while surprisingly good, is going to be a step down for you :P) https://t.co/zdr24DVSrJ\n",
      "haldaume3 Hal Daumé III said: RT @MSFTResearchCam: Would you like to intern with @katjahofmann and study how Minecraft can help provide equal opportunities? https://t.co…\n",
      "haldaume3 Hal Daumé III said: RT @chaoticneural: Or \"How to win citations and influence scientists\"? https://t.co/LjpUDvIFbj\n",
      "DistrictTrivia District Trivia said: #StudyUp with your #HintOfTheWeek for tonight's (5.25) #trivia! #EasyPoints https://t.co/7qig6YQH0O https://t.co/JnpgFgSKGW\n",
      "jonfroehlich Jon Froehlich said: Congrats to #BodyVis team for earning a \"Facilitator's Choice\" award in the NSF Video Showcase: https://t.co/auYOqCYTg2! #stemvideohall\n"
     ]
    }
   ],
   "source": [
    "# Get tweets from our timeline\n",
    "public_tweets = api.home_timeline()\n",
    "\n",
    "# print the first five authors and tweet texts\n",
    "for tweet in public_tweets[:5]:\n",
    "    print tweet.author.screen_name, tweet.author.name, \"said:\", tweet.text"
   ]
  },
  {
   "cell_type": "markdown",
   "metadata": {},
   "source": [
    "### Searching Twitter for Keywords\n",
    "\n",
    "Now that we're connected, we can search Twitter for specific keywords with relative ease just like you were using Twitter's search box.\n",
    "While this search only goes back 7 days and/or 1,500 tweets (whichever is less), it can be powerful if an event you want to track just started.\n",
    "\n",
    "Note that you might have to deal with paging if you get lots of data. Twitter will only return you one page of up to 100 tweets at a time."
   ]
  },
  {
   "cell_type": "code",
   "execution_count": 99,
   "metadata": {
    "collapsed": false
   },
   "outputs": [
    {
     "name": "stdout",
     "output_type": "stream",
     "text": [
      "Searched for: earthquake filter:media\n",
      "Number found: 12\n",
      "\n",
      "Tweets:\n",
      "earthquakedisas 警戒！ [波形] 22:30 茨城県 大子 高萩、長野県 生坂 南木曽、北海道 赤井川 標茶北、岐阜県 谷汲、熊本県 益城、青森県 西目屋 (地中) #地震 #震度 #揺れ #earthquake https://t.co/mUCNMFHae3\n",
      "ejx7tlyi1 [震源地] 熊本県熊本地方 [最大震度] 震度1 (2016年5月25日 22時07分頃発生) - goo 天気 https://t.co/YCT8eYRNVj | https://t.co/RGfnnGVDeb https://t.co/It2l2muLo8\n",
      "kenyanwarden RT @KResearcher: The largest earthquake in recorded history to hit Kenya was on Jan 6 1928 in Subukia (6.9Ms). https://t.co/zW8kbJSZlV\n",
      "earthquakedisas 警戒！ [波形] 22:29 茨城県 大子、長野県 生坂 南木曽、北海道 赤井川 標茶北、岐阜県 谷汲、熊本県 益城、青森県 西目屋 (地中) #地震 #震度 #揺れ #earthquake https://t.co/5sEvyVaXMy\n",
      "earthquakedisas 警戒！ [波形] 22:25 茨城県 大子、長野県 生坂 南木曽、北海道 赤井川 標茶北、岐阜県 谷汲 揖斐川、青森県 西目屋 西目屋、熊本県 三角 益城 (地中) #地震 #震度 #揺れ #earthquake https://t.co/GiebV2Uqug\n",
      "UtahsCW30 Did you feel the quake? Utah seismograph stations reporting a 4.1 mag earthquake hit about 1 a.m. near Duchesne. https://t.co/83P9JYGfsJ\n",
      "abc4utah Did you feel the quake? Utah seismograph stations reporting a 4.1 mag earthquake hit about 1 a.m. near Duchesne. https://t.co/Qg41E3A7Rj\n",
      "ABC4GMU Did you feel the quake? Utah seismograph stations reporting a 4.1 mag earthquake hit about 1 a.m. near Duchesne. https://t.co/ths0PbsprR\n",
      "kiedotson Did you feel the quake? Utah seismograph stations reporting a 4.1 mag earthquake hit about 1 a.m. near Duchesne. https://t.co/jAar61AHL7\n",
      "earthquakedisas 警戒！ [波形] 22:23 茨城県 大子、長野県 生坂 南木曽、北海道 赤井川、岐阜県 谷汲 揖斐川、青森県 西目屋 西目屋、熊本県 三角 益城 (地中) #地震 #震度 #揺れ #earthquake https://t.co/viRgZTJKm9\n",
      "weerenonweer ML 4.1 UTAH: Magnitude   ML 4.1 Region   UTAH Date time   2016-05-25 13:01:07.3… https://t.co/CZ0X0Rqy7z #aardbeving https://t.co/c0PM6Ir9u4\n",
      "alcaldealberjon RT @InfoEmerg: Terremoto de 5.4 al Sur de #Palaikastron, #Grecia a las 10:36 @USGS https://t.co/FjLLzGyTyI https://t.co/KQZ4lsOqRE\n"
     ]
    }
   ],
   "source": [
    "# Our search string\n",
    "queryString = \"earthquake\"\n",
    "\n",
    "# Perform the search\n",
    "matchingTweets = api.search(queryString)\n",
    "\n",
    "print \"Searched for:\", queryString\n",
    "print \"Number found:\", len(matchingTweets)\n",
    "\n",
    "# For each tweet that matches our query, print the author and text\n",
    "print \"\\nTweets:\"\n",
    "for tweet in matchingTweets:\n",
    "    print tweet.author.screen_name, tweet.text"
   ]
  },
  {
   "cell_type": "markdown",
   "metadata": {},
   "source": [
    "### More Complex Queries\n",
    "\n",
    "Twitter's Search API exposes many capabilities, like filtering for media, links, mentions, geolocations, dates, etc.\n",
    "We can access these capabilities directly with the search function.\n",
    "\n",
    "For a list of operators Twitter supports, go here: https://dev.twitter.com/rest/public/search"
   ]
  },
  {
   "cell_type": "code",
   "execution_count": 100,
   "metadata": {
    "collapsed": false
   },
   "outputs": [
    {
     "name": "stdout",
     "output_type": "stream",
     "text": [
      "Searched for: earthquake (filter:media OR filter:links)\n",
      "Number found: 12\n",
      "\n",
      "Tweets:\n",
      "IMC_UK We don't just respond We stay. One year on from the Nepal Earthquake, we're still there: https://t.co/ib9Y7mju5f https://t.co/jH6Vo2afWt\n",
      "quakeredalert Forecast Earthquake confirmed https://t.co/mtyT7xofQR https://t.co/Yldrouw8YW\n",
      "AroldoMaciel Forecast Earthquake confirmed https://t.co/BEiTw9SJ05 https://t.co/KIfNp61kno\n",
      "AroldoMaciel An earthquake off the southeast coast of Crete, measuring 5.5 on the Richter scale, was recorded by the Institute... https://t.co/mvn5ztvcCq\n",
      "beth_elliott123 RT @itsdjb: Trying to locate that earthquake  #ocrphysics https://t.co/94aiTLQxLP\n",
      "OilnewsUa RT @CrudeOilPrices: Earthquake insurance latest concern in oil-rich Oklahoma https://t.co/0SFLdm2Oli via @UPI\n",
      "IVEGABAJ2 #Sismo #Earthquake #Temblor  M 1.74, MONA PASSAGE                       https://t.co/fIJGm7lhzu  Puerto Rico\n",
      "earthquakedisas 警戒！ [波形] 22:35 茨城県 大子 高萩 つくば、長野県 生坂 南木曽、北海道 赤井川 標茶北、岐阜県 谷汲、熊本県 益城、青森県 西目屋 (地中) #地震 #震度 #揺れ #earthquake https://t.co/0RfEY0LaGh\n",
      "gaylefulbright My \"old \" friend Teri coming out to support our Ecuador earthquake relief 👍  love how so many of… https://t.co/g1lcvFDMVc\n",
      "DebbieWorthen https://t.co/D3Uo8fj8YA #2newsam Earthquake near Tabiona at 7:01 this morning.  4.1 on Richter Scale.\n",
      "2011remind 【2011年5月25日22:31報道】電力使用制限、病院や鉄道は例外　３０分野で緩和　https://t.co/O8bOstYxtO\n",
      "ailoveuu 海外移住と地震の分布地図\n",
      "https://t.co/gvIcRTwAbZ\n",
      "\n",
      "巨大地震と超巨大地震の分布地図\n",
      "https://t.co/JsxK0vUcHx\n"
     ]
    }
   ],
   "source": [
    "# Lets find only media or links about earthquakes\n",
    "queryString = \"earthquake (filter:media OR filter:links)\"\n",
    "\n",
    "# Perform the search\n",
    "matchingTweets = api.search(queryString)\n",
    "\n",
    "print \"Searched for:\", queryString\n",
    "print \"Number found:\", len(matchingTweets)\n",
    "\n",
    "# For each tweet that matches our query, print the author and text\n",
    "print \"\\nTweets:\"\n",
    "for tweet in matchingTweets:\n",
    "    print tweet.author.screen_name, tweet.text"
   ]
  },
  {
   "cell_type": "markdown",
   "metadata": {},
   "source": [
    "### Dealing with Pages\n",
    "\n",
    "As mentioned, Twitter serves results in pages. \n",
    "To get all results, we can use Tweepy's Cursor implementation, which handles this iteration through pages for us in the background."
   ]
  },
  {
   "cell_type": "code",
   "execution_count": 103,
   "metadata": {
    "collapsed": false
   },
   "outputs": [
    {
     "name": "stdout",
     "output_type": "stream",
     "text": [
      "\n",
      "Tweets:\n",
      "Yifthael RT @eq_map: 【M4.4】VERACRUZ, MEXICO 141.6km 2016/05/25 21:24:06JST, 2016/05/25 12:24:06UTC\n",
      "(G)https://t.co/qkWuZA5ymF (USGS)https://t.co/S0H…\n",
      "preethamgupta @atikaCNN @SudhanshuTrived Media is insensitive to human emotions as proven during Nepal earthquake. #IBN7_Media420 https://t.co/PYqWsrLIL4\n",
      "from___japan 【#USGS #Breaking】#earthquake　M 2.1 - 22km E of Anchorage, Alaska https://t.co/EtEn98h4GR #alert #tsunami #prayfromjapan\n",
      "QuakeKitGuide Earthquake Myth - You can't plan for an Earthquake. That's totally WRONG! Read more...\n",
      "https://t.co/q7dmq8K8A2 https://t.co/mA8EK7bSv0\n",
      "Nandghar The buildings constructed under #ProjectNandghar are thermally insulated, #earthquake resistant &amp; dampness proof https://t.co/n4f6Hadinl\n",
      "fusulinida2 RT @eq_map: 【M5.4】CRETE, GREECE 10.0km 2016/05/25 17:36:14JST, 2016/05/25 08:36:14UTC\n",
      "(G)https://t.co/v5FPjDl8S5 (USGS)https://t.co/duXDIHI…\n",
      "Frangotapia RT @AroldoMaciel: Forecast Earthquake confirmed https://t.co/BEiTw9SJ05 https://t.co/KIfNp61kno\n",
      "KBCLXSISMOS ⚠GLOBAL⚠ ML 4.1  UTAH https://t.co/AsTmRaGjhq\n",
      "KBCLXSISMOS ⚠GLOBAL⚠ M 4.1  Duchesne, Utah https://t.co/tzbtkXBQgw\n",
      "ANTIPATIKO7 ML 4.1  UTAH:  https://t.co/axQ55d2eKF\n",
      "SismologiaMund ML 4.1  UTAH:  https://t.co/jvb0eYlKRo\n",
      "SuperintenWS abc4utah: 4.1 mag earthquake near Duchesne around 7 a.m. Did you feel it? https://t.co/auzvA5eKli\n",
      "infomitigasi ML 4.1  UTAH:  https://t.co/Ejm2PSh21Y\n",
      "saigai_japan [震源地] 熊本県熊本地方  [最大震度] 震度1 (2016年5月25日 22時07分頃発生) - goo 天気:  https://t.co/YXabFCaNCy\n",
      "Desastres_ADN EMSC MAP: Ml 2.1  SOUTHERN ALASKA: Magnitude  Ml 2.1Region  SOUTHERN ALASKADate time  2016-05-25   13:09:27.0... https://t.co/zKVTz80Imn\n",
      "Desastres_ADN EMSC MAP: ML 1.8  SWITZERLAND: Magnitude  ML 1.8Region  SWITZERLANDDate time  2016-05-25   13:21:56.1 UTCLoca... https://t.co/IIvKmjgQTP\n",
      "Desastres_ADN EMSC MAP: Md 2.7  VIRGIN ISLANDS REGION: Magnitude  Md 2.7Region  VIRGIN ISLANDS REGIONDate time  2016-05-25 ... https://t.co/H7fbbZ1d1R\n",
      "Desastres_ADN EMSC MAP: ML 4.1  UTAH: Magnitude  ML 4.1Region  UTAHDate time  2016-05-25   13:01:07.3 UTCLocation  40.49 N ... https://t.co/jcQG22z3wJ\n",
      "SismologiaMund Ml 2.1  SOUTHERN ALASKA: Magnitude  Ml 2.1Region  SOUTHERN ALASKADate time  2016-05-25   13:09:27.0 UTCLocati... https://t.co/tBCFYgVd1X\n",
      "ANTIPATIKO7 Ml 2.1  SOUTHERN ALASKA: Magnitude  Ml 2.1Region  SOUTHERN ALASKADate time  2016-05-25   13:09:27.0 UTCLocati... https://t.co/Pea1mzGnAu\n",
      "ZUMAZIP @RealArabellaTom Help #Ecuador #RedCross Raise Money for Earthquake Donate here☞ https://t.co/QDTuOtEKut 🙏 https://t.co/Ona3XUgdmB\n",
      "1tanmen RT @earthquakejapan: 地震リスクは、山口県では非常に高く、 - Earthquake risk is very high in Yamaguchi Prefecture - https://t.co/EdN8fp22Nq\n",
      "GorkhaEm RT @thenepalesearmy: NA provides scholarship to Sunish  Awal of Muldhoka, Bhaktapur who was rescued after 22 Hrs in Mega-Earthquake 2072 ht…\n",
      "robertbevan77 RT @mnnovelette: CRAZY LADIES - Part 2\n",
      "\"What was it like with him? Earthquake? Tidal Wave? Nuclear Blast?\"\n",
      "https://t.co/lzuBEx0QKi\n",
      "#BOOKSPE…\n",
      "CEISismologia #GEOFON #Earthquake M 4.1, Chiapas, Mexico: 2016-05-25 12:24:13  17.89   -94.41   217 km    M https://t.co/yYhkZbeUoR\n",
      "CEISismologia #GEOFON #Earthquake M 4.0, Southern Greece: 2016-05-25 10:00:14  37.95   21.50    19 km    A https://t.co/zSthXjPClZ\n",
      "fusulinida2 RT @eq_map: 【M4.8】YEMEN 10.0km 2016/05/25 02:43:28JST, 2016/05/24 17:43:28UTC\n",
      "(G)https://t.co/H4U4snjQhZ (USGS)https://t.co/wfJTmhcHNo\n",
      "GEUwW459fIK551D RT @earthquake_jp: ［気象庁情報］25日　22時07分頃　熊本県熊本地方（N32.8/E130.7）にて　最大震度1（M2.1）の地震が発生。　震源の深さは10km。( https://t.co/pTP0AAEob3 ) #saigai #jishin #ea…\n",
      "mssnews4all Earthquake insurance latest concern in oil-rich Oklahoma https://t.co/spsAd86QYt\n",
      "SouthernEvents_ RT @PreppersGuide: #preppertalk M 1.6 - 11km NE of Running Springs, CA - Time 2016-05-25 13:23:50 UTC 2016-05-25 06:23:50 -07:00 a... https…\n",
      "abc4utah 4.1 mag earthquake near Duchesne around 7 a.m. Did you feel it? https://t.co/4wmcINla02\n",
      "UtahsCW30 4.1 mag earthquake near Duchesne around 7 a.m. Did you feel it? https://t.co/YEH6Mzl54k\n",
      "ABC4GMU 4.1 mag earthquake near Duchesne around 7 a.m. Did you feel it? https://t.co/R9A0Obwdrd\n",
      "kiedotson 4.1 mag earthquake near Duchesne around 7 a.m. Did you feel it? https://t.co/gVaipIKrz2\n",
      "Georgia_Souter RT @itsdjb: Trying to locate that earthquake  #ocrphysics https://t.co/94aiTLQxLP\n",
      "Geotechpedia Earthquake 5.6 on Richter Scale Rocks Crete\n",
      "https://t.co/oISObBkhCL https://t.co/bxmuRGkd1T\n",
      "catydoodle Earthquake, Magnitude 4.1 - UTAH - 2016 May 25, 13:01:07 UTC https://t.co/awgu2Y7JHh\n",
      "getalertinfo #sismo  M 1.3 - 32km SSW of Ludlow, California https://t.co/S5HEgSOeRj\n",
      "getalertinfo #sismo  M 1.8 - 13km SE of Mammoth Lakes, California https://t.co/QQRCbUCicq\n",
      "getalertinfo #sismo  M 1.5 - 11km NE of Running Springs, CA https://t.co/jOXQyR0TkU\n",
      "jiiji2010 スマホの熊本地震速報アラームに驚きパニクるハムスター!!!【モコ日記44】URGENT EARTHQUAKE PROMPT ALARM https://t.co/8HGyq8c0GB @YouTubeさんから\n",
      "mettafaves RT @hdtopography: session on the Kumamoto Earthquake at #JpGU2016\n",
      "https://t.co/rJnpKzBKP8 https://t.co/xdMKUARYhF\n",
      "warriorhunt RT @UtahGov: 4.1 magnitude earthquake near Duchesne. Did you feel it? https://t.co/0PBe3Wuuef https://t.co/8qCKtyaRcx\n",
      "tvheidihatch RT @DebbieWorthen: https://t.co/D3Uo8fj8YA #2newsam Earthquake near Tabiona at 7:01 this morning.  4.1 on Richter Scale.\n",
      "minaroba2 RT @zishin32555: 【地震情報】2016年5月25日 21時34分頃、熊本県熊本地方 深さ約10kmでM2.0(最大震度1)の地震がありました。 この地震による津波の心配はありません。\n",
      "   震度1：[熊本県]熊本西区 (https://t.co/k14Xz8Ig…\n",
      "Bluedogphoto Sad that due to the earthquake in Japan Nikon, Canon and Sony camera parts are now in short supply.Thank you to... https://t.co/tYdfaHQI7d\n",
      "ernestelim RT @NewEarthquake: 5.4 earthquake, 20km S of Palaikastron, Greece. 2016-05-25 11:36:14 at epicenter (28m ago, depth 10km). https://t.co/5mE…\n",
      "VolcanoWatching RT @phivolcs_dost: #EarthquakePH #EarthquakeCebu\n",
      "Earthquake Information No. 1\n",
      "Date and Time: 25 May 2016 - 9:19 PM\n",
      "Magnitude = 2.2... https…\n",
      "VolcanoWatching RT @earthmagazine: In a recent study, scientists determined that a volcanic eruption and an earthquake separated by eight months and... htt…\n",
      "AlanUBAC RT @NEWS_WORLD_: Stunning new political earthquake in Brazil: Is it now time for media outlets to call this a ‘coup’? https://t.co/FsmGe5Eb…\n",
      "minaroba2 RT @zishin32555: 【地震情報】2016年5月25日 22時7分頃、熊本県熊本地方 深さ約10kmでM2.1(最大震度1)の地震がありました。 この地震による津波の心配はありません。\n",
      "   震度1：[熊本県]熊本西区 (https://t.co/k14Xz8Igy…\n",
      "zociopathic RT @itsdjb: Trying to locate that earthquake  #ocrphysics https://t.co/94aiTLQxLP\n",
      "PhilClement84 We're working with the @WorldBank to help risk reduction   specialists to plan ahead: https://t.co/IrZ7we4LmE\n",
      "Sismolurico Double trouble: Volcanic eruption leads to strong earthquake eight months later 😱 https://t.co/GJxrDKf9zA\n",
      "hamburgo4557 RT @AroldoMaciel: An earthquake off the southeast coast of Crete, measuring 5.5 on the Richter scale, was recorded by the Institute... http…\n",
      "nameless6021 (`･ω･´) 22:36 茨城県 大子 997 高萩 1 つくば 1、長野県 生坂 251 南木曽 1 #地震 #earthquake #sismo #強震モニタ #disaster #desastre #Japan #Japón https://t.co/56Alx1ynKc\n",
      "euroquakes ML 1.8 SWITZERLAND https://t.co/VNePZ2qQYF #euroquake\n",
      "IMC_UK We don't just respond We stay. One year on from the Nepal Earthquake, we're still there: https://t.co/ib9Y7mju5f https://t.co/jH6Vo2afWt\n",
      "quakeredalert Forecast Earthquake confirmed https://t.co/mtyT7xofQR https://t.co/Yldrouw8YW\n",
      "AroldoMaciel Forecast Earthquake confirmed https://t.co/BEiTw9SJ05 https://t.co/KIfNp61kno\n",
      "AroldoMaciel An earthquake off the southeast coast of Crete, measuring 5.5 on the Richter scale, was recorded by the Institute... https://t.co/mvn5ztvcCq\n",
      "beth_elliott123 RT @itsdjb: Trying to locate that earthquake  #ocrphysics https://t.co/94aiTLQxLP\n",
      "OilnewsUa RT @CrudeOilPrices: Earthquake insurance latest concern in oil-rich Oklahoma https://t.co/0SFLdm2Oli via @UPI\n",
      "IVEGABAJ2 #Sismo #Earthquake #Temblor  M 1.74, MONA PASSAGE                       https://t.co/fIJGm7lhzu  Puerto Rico\n",
      "earthquakedisas 警戒！ [波形] 22:35 茨城県 大子 高萩 つくば、長野県 生坂 南木曽、北海道 赤井川 標茶北、岐阜県 谷汲、熊本県 益城、青森県 西目屋 (地中) #地震 #震度 #揺れ #earthquake https://t.co/0RfEY0LaGh\n",
      "gaylefulbright My \"old \" friend Teri coming out to support our Ecuador earthquake relief 👍  love how so many of… https://t.co/g1lcvFDMVc\n",
      "DebbieWorthen https://t.co/D3Uo8fj8YA #2newsam Earthquake near Tabiona at 7:01 this morning.  4.1 on Richter Scale.\n",
      "2011remind 【2011年5月25日22:31報道】電力使用制限、病院や鉄道は例外　３０分野で緩和　https://t.co/O8bOstYxtO\n",
      "ailoveuu 海外移住と地震の分布地図\n",
      "https://t.co/gvIcRTwAbZ\n",
      "\n",
      "巨大地震と超巨大地震の分布地図\n",
      "https://t.co/JsxK0vUcHx\n",
      "maatt1010 RT @itsdjb: Trying to locate that earthquake  #ocrphysics https://t.co/94aiTLQxLP\n",
      "pearly2004 RT @theblastpodcast: YEEEESSSS!!!!! Nailed it!!\n",
      "\n",
      "Praying that this cultural earthquake will finally awaken the church of #JesusChrist https…\n",
      "nightingalern Earthquake, Magnitude 4.1 - UTAH - 2016 May 25, 13:01:07 UTC https://t.co/J8SARxgdmj\n",
      "SoCalEq USGS reports a M1.26 #earthquake 32km SSW of Ludlow, California on 5/25/16 @ 13:30:01 UTC https://t.co/kXDTTYgf6g #quake\n",
      "everyEarthquake USGS reports a M1.26 #earthquake 32km SSW of Ludlow, California on 5/25/16 @ 13:30:01 UTC https://t.co/w8Dz7de105 #quake\n",
      "earthquakeapp 1.3 #Earthquake in 32Km Ssw Of Ludlow, California, #iPhone users download the Earthquake app for more information, https://t.co/V3aZWOAmzK\n",
      "ad29a266f694440 RT @earthquake_jp: ［速報LV1］25日　20時47分頃　茨城県沖（N36.4/E140.9）(推定)にて　M4（推定）の地震が発生。　震源の深さは推定40.7km。( https://t.co/yyoTTDeOMS ) #saigai #jishin #ea…\n",
      "Frajigon RT @NewEarthquake: 5.4 earthquake, 20km S of Palaikastron, Greece. 2016-05-25 11:36:14 at epicenter (28m ago, depth 10km). https://t.co/5mE…\n",
      "ANTIPATIKO7 #SISMO Ml 2.1 SOUTHERN ALASKA https://t.co/G0I7d9wpaT\n",
      "ANTIPATIKO7 #SISMO ML 1.8 SWITZERLAND https://t.co/u1rnPEpkYW\n",
      "ANTIPATIKO7 #SISMO Md 2.7 VIRGIN ISLANDS REGION https://t.co/ZcLtZjGMX1\n",
      "ANTIPATIKO7 #SISMO ML 4.1 UTAH https://t.co/uo10IoWkgo\n",
      "hjy8k RT @dis_dis_t: Showtek &amp; Justin Prime ft. Matthew Koma - Cannonball (Earthquake) https://t.co/eOWebDhpQq\n",
      "seismicmonitor Alert: M 4.1 - 41km NNW of Duchesne, Utah https://t.co/PmDZ4BQyfU #earthquake\n",
      "seismicmonitor Alert: M 2.7 - 86km N of Road Town, British Virgin Islands https://t.co/7qTJzKwNK5 #earthquake\n",
      "seismicmonitor Alert: M 4.4 - 20km S of Hidalgotitlan, Mexico https://t.co/uCrrR0oISH #earthquake\n",
      "seismicupdate USGS: M 4.1 - 41km NNW of Duchesne, Utah https://t.co/Do5nySx8Gk #earthquake\n",
      "seismicupdate USGS: M 2.7 - 86km N of Road Town, British Virgin Islands https://t.co/Ud9XE9EFsz #earthquake\n",
      "seismicupdate USGS: M 4.4 - 20km S of Hidalgotitlan, Mexico https://t.co/2mnSBwNGoW #earthquake\n",
      "MOEmergencyPrep [USGS ShakeMaps] 5.5 - GULF OF ADEN https://t.co/t11Ur6H1RS\n",
      "PAEmergencyPrep [USGS ShakeMaps] 5.5 - GULF OF ADEN https://t.co/e91a2WOKCg\n",
      "LAEmergencyPrep [USGS ShakeMaps] 5.5 - GULF OF ADEN https://t.co/qCQrWeKP9u\n",
      "epicenterx #earthquake  M 1.8 - 13km SE of Mammoth Lakes, California https://t.co/XsRpmRW5ve\n",
      "WIEmergencyPrep [USGS ShakeMaps] 5.5 - GULF OF ADEN https://t.co/XhKuO9zwMd\n",
      "NCEmergencyPrep [USGS ShakeMaps] 5.5 - GULF OF ADEN https://t.co/HnHaSWSyF8\n",
      "CAEmergencyPrep [USGS ShakeMaps] 5.5 - GULF OF ADEN https://t.co/68ApfC1Ykk\n",
      "VTEmergencyPrep [USGS ShakeMaps] 5.5 - GULF OF ADEN https://t.co/jizEt1dZ5Z\n",
      "MSEmergencyPrep [USGS ShakeMaps] 5.5 - GULF OF ADEN https://t.co/Yx2320UVFe\n",
      "OHEmergencyPrep [USGS ShakeMaps] 5.5 - GULF OF ADEN https://t.co/9IHpklbjOT\n",
      "GAEmergencyPrep [USGS ShakeMaps] 5.5 - GULF OF ADEN https://t.co/DeuHv1naiX\n",
      "epicenterx #earthquake  M 2.7 - 86km N of Road Town, British Virgin Islands https://t.co/nroOV447zd\n"
     ]
    }
   ],
   "source": [
    "# Lets find only media or links about earthquakes\n",
    "queryString = \"earthquake (filter:media OR filter:links)\"\n",
    "\n",
    "# How many tweets should we fetch? Upper limit is 1,500\n",
    "maxToReturn = 100\n",
    "\n",
    "# Perform the search, and for each tweet that matches our query, \n",
    "# print the author and text\n",
    "print \"\\nTweets:\"\n",
    "for status in tweepy.Cursor(api.search, q=queryString).items(maxToReturn):\n",
    "    print status.author.screen_name, status.text"
   ]
  },
  {
   "cell_type": "markdown",
   "metadata": {},
   "source": [
    "### Other Search Functionality\n",
    "\n",
    "The Tweepy wrapper and Twitter API is pretty extensive.\n",
    "You can do things like pull the last 3,200 tweets from other users' timelines, find all retweets of your account, get follower lists, search for users matching a query, etc.\n",
    "\n",
    "More information on Tweepy's capabilities are available at its documentation page: (http://tweepy.readthedocs.io/en/v3.5.0/api.html)\n",
    "\n",
    "Other information on the Twitter API is available here: (https://dev.twitter.com/rest/public/search)."
   ]
  },
  {
   "cell_type": "markdown",
   "metadata": {},
   "source": [
    "### Twitter Streaming\n",
    "\n",
    "Up to this point, all of our work has been retrospective. \n",
    "An event has occurred, and we want to see how Twitter responded over some period of time. \n",
    "\n",
    "To follow an event in real time, Twitter and Tweepy support Twitter streaming.\n",
    "Streaming is a bit complicated, but it essentially lets of track a set of keywords, places, or users.\n",
    "\n",
    "To keep things simple, I will provide a simple class and show methods for printing the first few tweets.\n",
    "Larger solutions exist specifically for handling Twitter streaming.\n",
    "\n",
    "You could take this code though and easily extend it by writing data to a file rather than the console.\n",
    "I've marked where that code could be inserted."
   ]
  },
  {
   "cell_type": "code",
   "execution_count": 166,
   "metadata": {
    "collapsed": false
   },
   "outputs": [],
   "source": [
    "# First, we need to create our own listener for the stream\n",
    "# that will stop after a few tweets\n",
    "class LocalStreamListener(tweepy.StreamListener):\n",
    "    \"\"\"A simple stream listener that breaks out after X tweets\"\"\"\n",
    "    \n",
    "    # Max number of tweets\n",
    "    maxTweetCount = 10\n",
    "    \n",
    "    # Set current counter\n",
    "    def __init__(self):\n",
    "        tweepy.StreamListener.__init__(self)\n",
    "        self.currentTweetCount = 0\n",
    "    \n",
    "    # Pass data up to parent then check if we should stop\n",
    "    def on_data(self, data):\n",
    "\n",
    "        print self.currentTweetCount\n",
    "        \n",
    "        tweepy.StreamListener.on_data(self, data)\n",
    "            \n",
    "        if ( self.currentTweetCount >= self.maxTweetCount ):\n",
    "            return False\n",
    "\n",
    "    # Increment the number of statuses we've seen\n",
    "    def on_status(self, status):\n",
    "        self.currentTweetCount += 1\n",
    "        \n",
    "        # Could write this status to a file instead of to the console\n",
    "        print status.text\n",
    "        \n",
    "    # Error handling below here\n",
    "    def on_exception(self, exc):\n",
    "        print exc\n",
    "\n",
    "    def on_limit(self, track):\n",
    "        \"\"\"Called when a limitation notice arrives\"\"\"\n",
    "        print \"Limit\", track\n",
    "        return\n",
    "\n",
    "    def on_error(self, status_code):\n",
    "        \"\"\"Called when a non-200 status code is returned\"\"\"\n",
    "        print \"Error:\", status_code\n",
    "        return False\n",
    "\n",
    "    def on_timeout(self):\n",
    "        \"\"\"Called when stream connection times out\"\"\"\n",
    "        print \"Timeout\"\n",
    "        return\n",
    "\n",
    "    def on_disconnect(self, notice):\n",
    "        \"\"\"Called when twitter sends a disconnect notice\n",
    "        \"\"\"\n",
    "        print \"Disconnect:\", notice\n",
    "        return\n",
    "\n",
    "    def on_warning(self, notice):\n",
    "        print \"Warning:\", notice\n",
    "        \"\"\"Called when a disconnection warning message arrives\"\"\"\n",
    "\n"
   ]
  },
  {
   "cell_type": "markdown",
   "metadata": {},
   "source": [
    "Now we set up the stream using the listener above"
   ]
  },
  {
   "cell_type": "code",
   "execution_count": 167,
   "metadata": {
    "collapsed": true
   },
   "outputs": [],
   "source": [
    "localStream = tweepy.Stream(api.auth, LocalStreamListener())"
   ]
  },
  {
   "cell_type": "code",
   "execution_count": 168,
   "metadata": {
    "collapsed": false,
    "scrolled": false
   },
   "outputs": [
    {
     "name": "stdout",
     "output_type": "stream",
     "text": [
      "0\n",
      "RT @Be_YouClothing: I usually love @kfc UNTIL tonight! The store manager at Alpharetta store was VERY RUDE to my mother; his name is JAMES…\n",
      "1\n",
      "@CatarinaGirardi that tent was a recipe for disaster anyway then factor in rain and thunder... ill pass\n",
      "2\n",
      "SOLRIZE - Master of Disaster #BarbwiresRadio #Premier https://t.co/e4fJ61P57i #Rock\n",
      "3\n",
      "My kitchen may look like it was hit with a natural disaster, but I have made-from-scratch soft pretzels so I'm happy\n",
      "4\n",
      "RT @Max_Wolfe_: So this year was a disaster and I could not be happier that it's over\n",
      "5\n",
      "RT @JohnFromCranber: Is USA Being Set up For Disaster? RE: Iran Nuke Deal, illegals, EMP Attack, DOD Cuts, Islamization, Fed Debt #tcot htt…\n",
      "6\n",
      "The other thing: I'm not convinced there's a single thing on @AceofSpadesHQ's disaster list that Trump wouldn't do https://t.co/vdWobuyv09\n",
      "7\n",
      "Moderate earthquake - Chichi-shima, Japan on May 25, 2016 https://t.co/04CzarW3Nq via Earthquake-Report\n",
      "8\n",
      "@KomariKills What A Disaster\n",
      "9\n",
      "RT @AmSciMag: Gauging #earthquake hazards with precariously balanced rocks https://t.co/2u792KvpAu https://t.co/nl8r2J2L8n\n"
     ]
    }
   ],
   "source": [
    "# Stream based on keywords\n",
    "localStream.filter(track=['earthquake', 'disaster'])"
   ]
  },
  {
   "cell_type": "code",
   "execution_count": 130,
   "metadata": {
    "collapsed": false
   },
   "outputs": [
    {
     "name": "stdout",
     "output_type": "stream",
     "text": [
      "Error: 420\n"
     ]
    }
   ],
   "source": [
    "# List of screen names to track\n",
    "screenNames = ['bbc', 'itele']\n",
    "\n",
    "# Twitter stream uses user IDs instead of names\n",
    "# so we must convert\n",
    "userIds = []\n",
    "for sn in screenNames:\n",
    "    user = api.get_user(sn)\n",
    "    userIds.append(user.id_str)\n",
    "\n",
    "# Stream based on users\n",
    "localStream.filter(follow=userIds)"
   ]
  },
  {
   "cell_type": "code",
   "execution_count": null,
   "metadata": {
    "collapsed": true
   },
   "outputs": [],
   "source": [
    "# Specify coordinates for a bounding box around area of interest\n",
    "# In this case, we use San Francisco\n",
    "swCornerLat = 36.8\n",
    "swCornerLon = -122.75\n",
    "neCornerLat = 37.8\n",
    "neCornerLon = -121.75\n",
    "\n",
    "boxArray = [swCornerLon, swCornerLat, neCornerLon, neCornerLat]\n",
    "\n",
    "# Stream based on location\n",
    "localStream.filter(locations=boxArray)"
   ]
  }
 ],
 "metadata": {
  "kernelspec": {
   "display_name": "Python 2",
   "language": "python",
   "name": "python2"
  },
  "language_info": {
   "codemirror_mode": {
    "name": "ipython",
    "version": 2
   },
   "file_extension": ".py",
   "mimetype": "text/x-python",
   "name": "python",
   "nbconvert_exporter": "python",
   "pygments_lexer": "ipython2",
   "version": "2.7.11"
  }
 },
 "nbformat": 4,
 "nbformat_minor": 0
}
